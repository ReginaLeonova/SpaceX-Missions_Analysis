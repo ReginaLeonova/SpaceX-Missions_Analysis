{
 "cells": [
  {
   "cell_type": "code",
   "execution_count": 161,
   "id": "eb5a9d98-bae4-4836-b4b5-4909ae272981",
   "metadata": {},
   "outputs": [],
   "source": [
    "import pandas as pd"
   ]
  },
  {
   "cell_type": "code",
   "execution_count": 162,
   "id": "bfdd0ac6-f12a-4635-83e7-7877631c0007",
   "metadata": {},
   "outputs": [],
   "source": [
    "data = pd.read_csv('SpaceX-Missions.csv')"
   ]
  },
  {
   "cell_type": "code",
   "execution_count": 163,
   "id": "bfd25eb5-ac7a-4961-b6a5-40e54d19ffa6",
   "metadata": {},
   "outputs": [
    {
     "data": {
      "text/html": [
       "<div>\n",
       "<style scoped>\n",
       "    .dataframe tbody tr th:only-of-type {\n",
       "        vertical-align: middle;\n",
       "    }\n",
       "\n",
       "    .dataframe tbody tr th {\n",
       "        vertical-align: top;\n",
       "    }\n",
       "\n",
       "    .dataframe thead th {\n",
       "        text-align: right;\n",
       "    }\n",
       "</style>\n",
       "<table border=\"1\" class=\"dataframe\">\n",
       "  <thead>\n",
       "    <tr style=\"text-align: right;\">\n",
       "      <th></th>\n",
       "      <th>Flight Number</th>\n",
       "      <th>Launch Date</th>\n",
       "      <th>Launch Time</th>\n",
       "      <th>Launch Site</th>\n",
       "      <th>Vehicle Type</th>\n",
       "      <th>Payload Name</th>\n",
       "      <th>Payload Type</th>\n",
       "      <th>Payload Mass (kg)</th>\n",
       "      <th>Payload Orbit</th>\n",
       "      <th>Customer Name</th>\n",
       "      <th>Customer Type</th>\n",
       "      <th>Customer Country</th>\n",
       "      <th>Mission Outcome</th>\n",
       "      <th>Failure Reason</th>\n",
       "      <th>Landing Type</th>\n",
       "      <th>Landing Outcome</th>\n",
       "    </tr>\n",
       "  </thead>\n",
       "  <tbody>\n",
       "    <tr>\n",
       "      <th>0</th>\n",
       "      <td>F1-1</td>\n",
       "      <td>24 March 2006</td>\n",
       "      <td>22:30</td>\n",
       "      <td>Marshall Islands</td>\n",
       "      <td>Falcon 1</td>\n",
       "      <td>FalconSAT-2</td>\n",
       "      <td>Research Satellite</td>\n",
       "      <td>19.5</td>\n",
       "      <td>NaN</td>\n",
       "      <td>DARPA</td>\n",
       "      <td>Government</td>\n",
       "      <td>United States</td>\n",
       "      <td>Failure</td>\n",
       "      <td>Engine Fire During Launch</td>\n",
       "      <td>NaN</td>\n",
       "      <td>NaN</td>\n",
       "    </tr>\n",
       "    <tr>\n",
       "      <th>1</th>\n",
       "      <td>F1-2</td>\n",
       "      <td>21 March 2007</td>\n",
       "      <td>01:10</td>\n",
       "      <td>Marshall Islands</td>\n",
       "      <td>Falcon 1</td>\n",
       "      <td>DemoSat</td>\n",
       "      <td>NaN</td>\n",
       "      <td>NaN</td>\n",
       "      <td>NaN</td>\n",
       "      <td>DARPA</td>\n",
       "      <td>Government</td>\n",
       "      <td>United States</td>\n",
       "      <td>Failure</td>\n",
       "      <td>Engine Shutdown During Launch</td>\n",
       "      <td>NaN</td>\n",
       "      <td>NaN</td>\n",
       "    </tr>\n",
       "    <tr>\n",
       "      <th>2</th>\n",
       "      <td>F1-3</td>\n",
       "      <td>3 August 2008</td>\n",
       "      <td>03:34</td>\n",
       "      <td>Marshall Islands</td>\n",
       "      <td>Falcon 1</td>\n",
       "      <td>Trailblazer</td>\n",
       "      <td>Communication Satellite</td>\n",
       "      <td>NaN</td>\n",
       "      <td>NaN</td>\n",
       "      <td>ORS</td>\n",
       "      <td>Government</td>\n",
       "      <td>United States</td>\n",
       "      <td>Failure</td>\n",
       "      <td>Collision During Launch</td>\n",
       "      <td>NaN</td>\n",
       "      <td>NaN</td>\n",
       "    </tr>\n",
       "    <tr>\n",
       "      <th>3</th>\n",
       "      <td>F1-3</td>\n",
       "      <td>3 August 2008</td>\n",
       "      <td>03:34</td>\n",
       "      <td>Marshall Islands</td>\n",
       "      <td>Falcon 1</td>\n",
       "      <td>PRESat, NanoSail-D</td>\n",
       "      <td>Research Satellites</td>\n",
       "      <td>8.0</td>\n",
       "      <td>NaN</td>\n",
       "      <td>NASA</td>\n",
       "      <td>Government</td>\n",
       "      <td>United States</td>\n",
       "      <td>Failure</td>\n",
       "      <td>Collision During Launch</td>\n",
       "      <td>NaN</td>\n",
       "      <td>NaN</td>\n",
       "    </tr>\n",
       "    <tr>\n",
       "      <th>4</th>\n",
       "      <td>F1-3</td>\n",
       "      <td>3 August 2008</td>\n",
       "      <td>03:34</td>\n",
       "      <td>Marshall Islands</td>\n",
       "      <td>Falcon 1</td>\n",
       "      <td>Explorers</td>\n",
       "      <td>Human Remains</td>\n",
       "      <td>NaN</td>\n",
       "      <td>NaN</td>\n",
       "      <td>Celestis</td>\n",
       "      <td>Business</td>\n",
       "      <td>United States</td>\n",
       "      <td>Failure</td>\n",
       "      <td>Collision During Launch</td>\n",
       "      <td>NaN</td>\n",
       "      <td>NaN</td>\n",
       "    </tr>\n",
       "  </tbody>\n",
       "</table>\n",
       "</div>"
      ],
      "text/plain": [
       "  Flight Number    Launch Date Launch Time       Launch Site Vehicle Type  \\\n",
       "0          F1-1  24 March 2006       22:30  Marshall Islands     Falcon 1   \n",
       "1          F1-2  21 March 2007       01:10  Marshall Islands     Falcon 1   \n",
       "2          F1-3  3 August 2008       03:34  Marshall Islands     Falcon 1   \n",
       "3          F1-3  3 August 2008       03:34  Marshall Islands     Falcon 1   \n",
       "4          F1-3  3 August 2008       03:34  Marshall Islands     Falcon 1   \n",
       "\n",
       "         Payload Name             Payload Type  Payload Mass (kg)  \\\n",
       "0         FalconSAT-2       Research Satellite               19.5   \n",
       "1             DemoSat                      NaN                NaN   \n",
       "2         Trailblazer  Communication Satellite                NaN   \n",
       "3  PRESat, NanoSail-D      Research Satellites                8.0   \n",
       "4           Explorers            Human Remains                NaN   \n",
       "\n",
       "  Payload Orbit Customer Name Customer Type Customer Country Mission Outcome  \\\n",
       "0           NaN         DARPA    Government    United States         Failure   \n",
       "1           NaN         DARPA    Government    United States         Failure   \n",
       "2           NaN           ORS    Government    United States         Failure   \n",
       "3           NaN          NASA    Government    United States         Failure   \n",
       "4           NaN      Celestis      Business    United States         Failure   \n",
       "\n",
       "                  Failure Reason Landing Type Landing Outcome  \n",
       "0      Engine Fire During Launch          NaN             NaN  \n",
       "1  Engine Shutdown During Launch          NaN             NaN  \n",
       "2        Collision During Launch          NaN             NaN  \n",
       "3        Collision During Launch          NaN             NaN  \n",
       "4        Collision During Launch          NaN             NaN  "
      ]
     },
     "execution_count": 163,
     "metadata": {},
     "output_type": "execute_result"
    }
   ],
   "source": [
    "data.head(5)"
   ]
  },
  {
   "cell_type": "code",
   "execution_count": 164,
   "id": "80f14c54-9102-40a2-bcbe-a6961fd5676f",
   "metadata": {},
   "outputs": [
    {
     "name": "stdout",
     "output_type": "stream",
     "text": [
      "Index(['Flight Number', 'Launch Date', 'Launch Time', 'Launch Site',\n",
      "       'Vehicle Type', 'Payload Name', 'Payload Type', 'Payload Mass (kg)',\n",
      "       'Payload Orbit', 'Customer Name', 'Customer Type', 'Customer Country',\n",
      "       'Mission Outcome', 'Failure Reason', 'Landing Type', 'Landing Outcome'],\n",
      "      dtype='object')\n"
     ]
    }
   ],
   "source": [
    "print(data.columns)"
   ]
  },
  {
   "cell_type": "code",
   "execution_count": 165,
   "id": "15981005-d011-4fdb-86ca-6fa142c4382d",
   "metadata": {},
   "outputs": [],
   "source": [
    "data_cleaned = data.dropna(subset=['Payload Mass (kg)'])"
   ]
  },
  {
   "cell_type": "code",
   "execution_count": 166,
   "id": "c805fbcb-7a40-4bf6-8d6d-66d3cdf4a07f",
   "metadata": {},
   "outputs": [
    {
     "data": {
      "text/html": [
       "<div>\n",
       "<style scoped>\n",
       "    .dataframe tbody tr th:only-of-type {\n",
       "        vertical-align: middle;\n",
       "    }\n",
       "\n",
       "    .dataframe tbody tr th {\n",
       "        vertical-align: top;\n",
       "    }\n",
       "\n",
       "    .dataframe thead th {\n",
       "        text-align: right;\n",
       "    }\n",
       "</style>\n",
       "<table border=\"1\" class=\"dataframe\">\n",
       "  <thead>\n",
       "    <tr style=\"text-align: right;\">\n",
       "      <th></th>\n",
       "      <th>Flight Number</th>\n",
       "      <th>Launch Date</th>\n",
       "      <th>Launch Time</th>\n",
       "      <th>Launch Site</th>\n",
       "      <th>Vehicle Type</th>\n",
       "      <th>Payload Name</th>\n",
       "      <th>Payload Type</th>\n",
       "      <th>Payload Mass (kg)</th>\n",
       "      <th>Payload Orbit</th>\n",
       "      <th>Customer Name</th>\n",
       "      <th>Customer Type</th>\n",
       "      <th>Customer Country</th>\n",
       "      <th>Mission Outcome</th>\n",
       "      <th>Failure Reason</th>\n",
       "      <th>Landing Type</th>\n",
       "      <th>Landing Outcome</th>\n",
       "    </tr>\n",
       "  </thead>\n",
       "  <tbody>\n",
       "    <tr>\n",
       "      <th>0</th>\n",
       "      <td>F1-1</td>\n",
       "      <td>24 March 2006</td>\n",
       "      <td>22:30</td>\n",
       "      <td>Marshall Islands</td>\n",
       "      <td>Falcon 1</td>\n",
       "      <td>FalconSAT-2</td>\n",
       "      <td>Research Satellite</td>\n",
       "      <td>19.5</td>\n",
       "      <td>NaN</td>\n",
       "      <td>DARPA</td>\n",
       "      <td>Government</td>\n",
       "      <td>United States</td>\n",
       "      <td>Failure</td>\n",
       "      <td>Engine Fire During Launch</td>\n",
       "      <td>NaN</td>\n",
       "      <td>NaN</td>\n",
       "    </tr>\n",
       "    <tr>\n",
       "      <th>3</th>\n",
       "      <td>F1-3</td>\n",
       "      <td>3 August 2008</td>\n",
       "      <td>03:34</td>\n",
       "      <td>Marshall Islands</td>\n",
       "      <td>Falcon 1</td>\n",
       "      <td>PRESat, NanoSail-D</td>\n",
       "      <td>Research Satellites</td>\n",
       "      <td>8.0</td>\n",
       "      <td>NaN</td>\n",
       "      <td>NASA</td>\n",
       "      <td>Government</td>\n",
       "      <td>United States</td>\n",
       "      <td>Failure</td>\n",
       "      <td>Collision During Launch</td>\n",
       "      <td>NaN</td>\n",
       "      <td>NaN</td>\n",
       "    </tr>\n",
       "    <tr>\n",
       "      <th>5</th>\n",
       "      <td>F1-4</td>\n",
       "      <td>28 September 2008</td>\n",
       "      <td>23:15</td>\n",
       "      <td>Marshall Islands</td>\n",
       "      <td>Falcon 1</td>\n",
       "      <td>RatSat (DemoSat)</td>\n",
       "      <td>NaN</td>\n",
       "      <td>165.0</td>\n",
       "      <td>Low Earth Orbit</td>\n",
       "      <td>NaN</td>\n",
       "      <td>NaN</td>\n",
       "      <td>NaN</td>\n",
       "      <td>Success</td>\n",
       "      <td>NaN</td>\n",
       "      <td>NaN</td>\n",
       "      <td>NaN</td>\n",
       "    </tr>\n",
       "    <tr>\n",
       "      <th>6</th>\n",
       "      <td>F1-5</td>\n",
       "      <td>14 July 2009</td>\n",
       "      <td>03:35</td>\n",
       "      <td>Marshall Islands</td>\n",
       "      <td>Falcon 1</td>\n",
       "      <td>RazakSAT</td>\n",
       "      <td>Weather Satellite</td>\n",
       "      <td>180.0</td>\n",
       "      <td>Low Earth Orbit</td>\n",
       "      <td>ATSB</td>\n",
       "      <td>Government</td>\n",
       "      <td>Malaysia</td>\n",
       "      <td>Success</td>\n",
       "      <td>NaN</td>\n",
       "      <td>NaN</td>\n",
       "      <td>NaN</td>\n",
       "    </tr>\n",
       "    <tr>\n",
       "      <th>10</th>\n",
       "      <td>F9-4</td>\n",
       "      <td>8 October 2012</td>\n",
       "      <td>00:35</td>\n",
       "      <td>Cape Canaveral AFS LC-40</td>\n",
       "      <td>Falcon 9 (v1.0)</td>\n",
       "      <td>SpaceX CRS-1</td>\n",
       "      <td>Space Station Supplies</td>\n",
       "      <td>500.0</td>\n",
       "      <td>Low Earth Orbit</td>\n",
       "      <td>NASA</td>\n",
       "      <td>Government</td>\n",
       "      <td>United States</td>\n",
       "      <td>Success</td>\n",
       "      <td>NaN</td>\n",
       "      <td>NaN</td>\n",
       "      <td>NaN</td>\n",
       "    </tr>\n",
       "  </tbody>\n",
       "</table>\n",
       "</div>"
      ],
      "text/plain": [
       "   Flight Number        Launch Date Launch Time               Launch Site  \\\n",
       "0           F1-1      24 March 2006       22:30          Marshall Islands   \n",
       "3           F1-3      3 August 2008       03:34          Marshall Islands   \n",
       "5           F1-4  28 September 2008       23:15          Marshall Islands   \n",
       "6           F1-5       14 July 2009       03:35          Marshall Islands   \n",
       "10          F9-4     8 October 2012       00:35  Cape Canaveral AFS LC-40   \n",
       "\n",
       "       Vehicle Type        Payload Name            Payload Type  \\\n",
       "0          Falcon 1         FalconSAT-2      Research Satellite   \n",
       "3          Falcon 1  PRESat, NanoSail-D     Research Satellites   \n",
       "5          Falcon 1    RatSat (DemoSat)                     NaN   \n",
       "6          Falcon 1            RazakSAT       Weather Satellite   \n",
       "10  Falcon 9 (v1.0)        SpaceX CRS-1  Space Station Supplies   \n",
       "\n",
       "    Payload Mass (kg)    Payload Orbit Customer Name Customer Type  \\\n",
       "0                19.5              NaN         DARPA    Government   \n",
       "3                 8.0              NaN          NASA    Government   \n",
       "5               165.0  Low Earth Orbit           NaN           NaN   \n",
       "6               180.0  Low Earth Orbit          ATSB    Government   \n",
       "10              500.0  Low Earth Orbit          NASA    Government   \n",
       "\n",
       "   Customer Country Mission Outcome             Failure Reason Landing Type  \\\n",
       "0     United States         Failure  Engine Fire During Launch          NaN   \n",
       "3     United States         Failure    Collision During Launch          NaN   \n",
       "5               NaN         Success                        NaN          NaN   \n",
       "6          Malaysia         Success                        NaN          NaN   \n",
       "10    United States         Success                        NaN          NaN   \n",
       "\n",
       "   Landing Outcome  \n",
       "0              NaN  \n",
       "3              NaN  \n",
       "5              NaN  \n",
       "6              NaN  \n",
       "10             NaN  "
      ]
     },
     "execution_count": 166,
     "metadata": {},
     "output_type": "execute_result"
    }
   ],
   "source": [
    "data_cleaned.head(5)"
   ]
  },
  {
   "cell_type": "code",
   "execution_count": 167,
   "id": "56f96256-0004-4826-bd6d-07a60aeb78bb",
   "metadata": {},
   "outputs": [],
   "source": [
    "cleaned_data = data_cleaned.copy()\n",
    "cleaned_data.to_csv('cleaned_spacex_data.csv', index=False)\n",
    "cleaned_data = pd.read_csv('cleaned_spacex_data.csv')"
   ]
  },
  {
   "cell_type": "code",
   "execution_count": 168,
   "id": "3f030964-a8d4-4a0a-b8e2-2e5bb65277f1",
   "metadata": {},
   "outputs": [],
   "source": [
    "#Success Rate per Year (the ratio of successful missions to total missions within a specific year)"
   ]
  },
  {
   "cell_type": "code",
   "execution_count": 169,
   "id": "16311269-e1ae-4896-b40a-bb3f66fe1181",
   "metadata": {},
   "outputs": [
    {
     "name": "stdout",
     "output_type": "stream",
     "text": [
      "Launch Year\n",
      "2006           NaN\n",
      "2008     50.000000\n",
      "2009    100.000000\n",
      "2012     50.000000\n",
      "2013    100.000000\n",
      "2014    100.000000\n",
      "2015     85.714286\n",
      "2016     90.000000\n",
      "2017    100.000000\n",
      "dtype: float64\n"
     ]
    }
   ],
   "source": [
    "cleaned_data['Launch Year'] = pd.to_datetime(cleaned_data['Launch Date']).dt.year\n",
    "\n",
    "successful_launches = cleaned_data[cleaned_data['Mission Outcome'] == 'Success']\n",
    "total_launches_per_year = cleaned_data.groupby('Launch Year').size()\n",
    "successful_launches_per_year = successful_launches.groupby('Launch Year').size()\n",
    "success_rate_per_year = (successful_launches_per_year / total_launches_per_year) * 100\n",
    "print(success_rate_per_year)"
   ]
  },
  {
   "cell_type": "code",
   "execution_count": 170,
   "id": "9d6681bd-ad3c-45d3-92db-e01491c78c4b",
   "metadata": {},
   "outputs": [],
   "source": [
    "cleaned_data['Success Flag'] = cleaned_data['Mission Outcome'].apply(lambda x: 1 if x == 'Success' else 0)"
   ]
  },
  {
   "cell_type": "code",
   "execution_count": 171,
   "id": "e948ac64-ab0f-4aec-91ca-db7d48237e97",
   "metadata": {},
   "outputs": [
    {
     "name": "stdout",
     "output_type": "stream",
     "text": [
      "              Launch Year  Success Flag\n",
      "Launch Year      1.000000      0.414784\n",
      "Success Flag     0.414784      1.000000\n"
     ]
    }
   ],
   "source": [
    "correlation_1 = cleaned_data[['Launch Year', 'Success Flag']].corr()\n",
    "print(correlation_1)"
   ]
  },
  {
   "cell_type": "code",
   "execution_count": 172,
   "id": "43f78e3e-5fdb-4274-9b9b-243aff6bade0",
   "metadata": {},
   "outputs": [
    {
     "name": "stdout",
     "output_type": "stream",
     "text": [
      "0.016389591496887637\n"
     ]
    }
   ],
   "source": [
    "from scipy import stats\n",
    "correlation_coefficient, p_value = stats.pearsonr(cleaned_data['Launch Year'], cleaned_data['Success Flag'])\n",
    "print(p_value)\n",
    "#there is a statistically significant correlation between Launch Year and Success Flag"
   ]
  },
  {
   "cell_type": "code",
   "execution_count": 173,
   "id": "a3f0b63c-22d3-4412-8731-3819decc895d",
   "metadata": {},
   "outputs": [],
   "source": [
    "import matplotlib.pyplot as plt"
   ]
  },
  {
   "cell_type": "code",
   "execution_count": 174,
   "id": "21175d3e-ba9f-4806-a960-ba7805aa13cf",
   "metadata": {},
   "outputs": [
    {
     "data": {
      "image/png": "[encoded data removed]",
      "text/plain": [
       "<Figure size 640x480 with 1 Axes>"
      ]
     },
     "metadata": {},
     "output_type": "display_data"
    }
   ],
   "source": [
    "plt.scatter(cleaned_data['Launch Year'], cleaned_data['Success Flag'])\n",
    "plt.title('Correlation between Yeart and Launch Success')\n",
    "plt.xlabel('Launch Year')\n",
    "plt.ylabel('Launch Success (1 = Success, 0 = Failure)')\n",
    "plt.show()"
   ]
  },
  {
   "cell_type": "code",
   "execution_count": 175,
   "id": "9dc6b620-f315-4efd-b377-24ceecc858c2",
   "metadata": {},
   "outputs": [],
   "source": [
    "#Predict the likelihood of future mission success (with logistic regression)"
   ]
  },
  {
   "cell_type": "code",
   "execution_count": 176,
   "id": "bd72ac46-8762-40e8-8b7c-0b5e7dcf2e35",
   "metadata": {},
   "outputs": [
    {
     "name": "stdout",
     "output_type": "stream",
     "text": [
      "Requirement already satisfied: statsmodels in /Users/reginaleonova/miniconda3/lib/python3.11/site-packages (0.14.4)\n",
      "Requirement already satisfied: numpy<3,>=1.22.3 in /Users/reginaleonova/miniconda3/lib/python3.11/site-packages (from statsmodels) (1.26.4)\n",
      "Requirement already satisfied: scipy!=1.9.2,>=1.8 in /Users/reginaleonova/miniconda3/lib/python3.11/site-packages (from statsmodels) (1.14.1)\n",
      "Requirement already satisfied: pandas!=2.1.0,>=1.4 in /Users/reginaleonova/miniconda3/lib/python3.11/site-packages (from statsmodels) (2.2.1)\n",
      "Requirement already satisfied: patsy>=0.5.6 in /Users/reginaleonova/miniconda3/lib/python3.11/site-packages (from statsmodels) (0.5.6)\n",
      "Requirement already satisfied: packaging>=21.3 in /Users/reginaleonova/miniconda3/lib/python3.11/site-packages (from statsmodels) (23.1)\n",
      "Requirement already satisfied: python-dateutil>=2.8.2 in /Users/reginaleonova/miniconda3/lib/python3.11/site-packages (from pandas!=2.1.0,>=1.4->statsmodels) (2.8.2)\n",
      "Requirement already satisfied: pytz>=2020.1 in /Users/reginaleonova/miniconda3/lib/python3.11/site-packages (from pandas!=2.1.0,>=1.4->statsmodels) (2023.3.post1)\n",
      "Requirement already satisfied: tzdata>=2022.7 in /Users/reginaleonova/miniconda3/lib/python3.11/site-packages (from pandas!=2.1.0,>=1.4->statsmodels) (2023.3)\n",
      "Requirement already satisfied: six in /Users/reginaleonova/miniconda3/lib/python3.11/site-packages (from patsy>=0.5.6->statsmodels) (1.16.0)\n",
      "Note: you may need to restart the kernel to use updated packages.\n"
     ]
    }
   ],
   "source": [
    "pip install statsmodels"
   ]
  },
  {
   "cell_type": "code",
   "execution_count": 177,
   "id": "758757b9-9853-4ff1-a5eb-af049682e3ff",
   "metadata": {},
   "outputs": [
    {
     "name": "stdout",
     "output_type": "stream",
     "text": [
      "Intel MKL WARNING: Support of Intel(R) Streaming SIMD Extensions 4.2 (Intel(R) SSE4.2) enabled only processors has been deprecated. Intel oneAPI Math Kernel Library 2025.0 will require Intel(R) Advanced Vector Extensions (Intel(R) AVX) instructions.\n",
      "                 Generalized Linear Model Regression Results                  \n",
      "==============================================================================\n",
      "Dep. Variable:           Success Flag   No. Observations:                   33\n",
      "Model:                            GLM   Df Residuals:                       31\n",
      "Model Family:                Binomial   Df Model:                            1\n",
      "Link Function:                  Logit   Scale:                          1.0000\n",
      "Method:                          IRLS   Log-Likelihood:                -11.710\n",
      "Date:                Sat, 02 Nov 2024   Deviance:                       23.419\n",
      "Time:                        17:43:41   Pearson chi2:                     34.8\n",
      "No. Iterations:                     5   Pseudo R-squ. (CS):             0.1315\n",
      "Covariance Type:            nonrobust                                         \n",
      "===============================================================================\n",
      "                  coef    std err          z      P>|z|      [0.025      0.975]\n",
      "-------------------------------------------------------------------------------\n",
      "const        -692.4921    334.327     -2.071      0.038   -1347.761     -37.224\n",
      "Launch Year     0.3448      0.166      2.076      0.038       0.019       0.670\n",
      "===============================================================================\n"
     ]
    }
   ],
   "source": [
    "import statsmodels.api as sm\n",
    "X = sm.add_constant(cleaned_data['Launch Year'])\n",
    "y = cleaned_data['Success Flag']\n",
    "\n",
    "model = sm.GLM(y, X, family=sm.families.Binomial())\n",
    "result = model.fit()\n",
    "\n",
    "print(result.summary())\n",
    "#There is a statistically significant positive relationship between Launch Year and the Success Flag. However, other important variables may not be included in the analysis that could help explain the success of the missions more fully."
   ]
  },
  {
   "cell_type": "code",
   "execution_count": 178,
   "id": "6fc386e0-834e-4fc4-af1f-4d1bdfa15c03",
   "metadata": {},
   "outputs": [],
   "source": [
    "#Payload Weight Category\n",
    "#Light Payload: 0-1000 kg\n",
    "#Medium Payload: 1001-5000 kg\n",
    "#Heavy Payload: 5001-10,000 kg\n",
    "#Super Heavy Payload: Over 10,000 kg"
   ]
  },
  {
   "cell_type": "code",
   "execution_count": 179,
   "id": "2189cd7e-f7f9-4484-bab9-e7fd23c5af36",
   "metadata": {},
   "outputs": [],
   "source": [
    "def categorize_payload(weight):\n",
    "    if weight < 1000:\n",
    "        return 'Light'\n",
    "    elif 1000 <= weight < 5000:\n",
    "        return 'Medium'\n",
    "    elif 5000 <= weight < 10000:\n",
    "        return 'Heavy'\n",
    "    else:\n",
    "        return 'Very Heavy'\n",
    "cleaned_data['Payload Category'] = cleaned_data['Payload Mass (kg)'].apply(categorize_payload)"
   ]
  },
  {
   "cell_type": "code",
   "execution_count": 180,
   "id": "35f081d9-3de8-4a16-8989-2e4d0ee4f5bf",
   "metadata": {},
   "outputs": [
    {
     "name": "stdout",
     "output_type": "stream",
     "text": [
      "   Flight Number        Launch Date Launch Time                  Launch Site  \\\n",
      "0           F1-1      24 March 2006       22:30             Marshall Islands   \n",
      "1           F1-3      3 August 2008       03:34             Marshall Islands   \n",
      "2           F1-4  28 September 2008       23:15             Marshall Islands   \n",
      "3           F1-5       14 July 2009       03:35             Marshall Islands   \n",
      "4           F9-4     8 October 2012       00:35     Cape Canaveral AFS LC-40   \n",
      "5           F9-4     8 October 2012       00:35     Cape Canaveral AFS LC-40   \n",
      "6           F9-5       1 March 2013       15:10     Cape Canaveral AFS LC-40   \n",
      "7           F9-6  29 September 2013       16:00        Vandenberg AFB SLC-4E   \n",
      "8           F9-7    3 December 2013       22:41     Cape Canaveral AFS LC-40   \n",
      "9           F9-8    6 December 2014       22:06     Cape Canaveral AFS LC-40   \n",
      "10          F9-9      18 April 2014       19:25     Cape Canaveral AFS LC-40   \n",
      "11         F9-11      5 August 2014       08:00     Cape Canaveral AFS LC-40   \n",
      "12         F9-12   7 September 2014       05:00     Cape Canaveral AFS LC-40   \n",
      "13         F9-13  21 September 2014       05:52     Cape Canaveral AFS LC-40   \n",
      "14         F9-14    10 January 2015       09:47     Cape Canaveral AFS LC-40   \n",
      "15         F9-15   11 February 2015       23:03     Cape Canaveral AFS LC-40   \n",
      "16         F9-16       2 March 2015       03:50     Cape Canaveral AFS LC-40   \n",
      "17         F9-16       2 March 2015       03:50     Cape Canaveral AFS LC-40   \n",
      "18         F9-17      14 April 2015       20:10     Cape Canaveral AFS LC-40   \n",
      "19         F9-18      27 April 2015       23:03     Cape Canaveral AFS LC-40   \n",
      "20         F9-19       28 June 2015       14:21     Cape Canaveral AFS LC-40   \n",
      "21         F9-21    17 January 2016       18:42        Vandenberg AFB SLC-4E   \n",
      "22          FT-2       4 March 2016       23:35     Cape Canaveral AFS LC-40   \n",
      "23          FT-3       8 April 2016       20:43     Cape Canaveral AFS LC-40   \n",
      "24          FT-4         6 May 2016       05:21     Cape Canaveral AFS LC-40   \n",
      "25          FT-5        27 May 2016       21:39     Cape Canaveral AFS LC-40   \n",
      "26          FT-6       15 June 2016       14:29     Cape Canaveral AFS LC-40   \n",
      "27          FT-6       15 June 2016       14:29     Cape Canaveral AFS LC-40   \n",
      "28          FT-7       18 July 2016       04:45     Cape Canaveral AFS LC-40   \n",
      "29          FT-8     14 August 2016       05:26     Cape Canaveral AFS LC-40   \n",
      "30          FT-9   1 September 2016       13:07     Cape Canaveral AFS LC-40   \n",
      "31         FT-10    14 January 2017       17:54        Vandenberg AFB SLC-4E   \n",
      "32         FT-11   19 February 2017       14:39  Kennedy Space Center LC-39A   \n",
      "\n",
      "                   Vehicle Type                    Payload Name  \\\n",
      "0                      Falcon 1                     FalconSAT-2   \n",
      "1                      Falcon 1              PRESat, NanoSail-D   \n",
      "2                      Falcon 1                RatSat (DemoSat)   \n",
      "3                      Falcon 1                        RazakSAT   \n",
      "4               Falcon 9 (v1.0)                    SpaceX CRS-1   \n",
      "5               Falcon 9 (v1.0)                     Orbcomm-OG2   \n",
      "6               Falcon 9 (v1.0)                    SpaceX CRS-2   \n",
      "7               Falcon 9 (v1.1)                        CASSIOPE   \n",
      "8               Falcon 9 (v1.1)                           SES-8   \n",
      "9               Falcon 9 (v1.1)                       Thaicom 6   \n",
      "10              Falcon 9 (v1.1)                    SpaceX CRS-3   \n",
      "11              Falcon 9 (v1.1)                       AsiaSat 8   \n",
      "12              Falcon 9 (v1.1)                       AsiaSat 6   \n",
      "13              Falcon 9 (v1.1)                    SpaceX CRS-4   \n",
      "14              Falcon 9 (v1.1)                    SpaceX CRS-5   \n",
      "15              Falcon 9 (v1.1)                          DSCOVR   \n",
      "16              Falcon 9 (v1.1)                          ABS-3A   \n",
      "17              Falcon 9 (v1.1)  Eutelsat 115 West B (Satmex 7)   \n",
      "18              Falcon 9 (v1.1)                    SpaceX CRS-6   \n",
      "19              Falcon 9 (v1.1)       TurkmenAlem 52E/MonacoSAT   \n",
      "20              Falcon 9 (v1.1)                    SpaceX CRS-7   \n",
      "21              Falcon 9 (v1.1)                         Jason-3   \n",
      "22  Falcon 9 Full Thrust (v1.2)                           SES-9   \n",
      "23  Falcon 9 Full Thrust (v1.2)                    SpaceX CRS-8   \n",
      "24  Falcon 9 Full Thrust (v1.2)                        JCSAT-14   \n",
      "25  Falcon 9 Full Thrust (v1.2)                       Thaicom 8   \n",
      "26  Falcon 9 Full Thrust (v1.2)                          ABS-2A   \n",
      "27  Falcon 9 Full Thrust (v1.2)  Eutelsat 117 West B (Satmex 9)   \n",
      "28  Falcon 9 Full Thrust (v1.2)                    SpaceX CRS-9   \n",
      "29  Falcon 9 Full Thrust (v1.2)                        JCSAT-16   \n",
      "30  Falcon 9 Full Thrust (v1.2)                          Amos-6   \n",
      "31  Falcon 9 Full Thrust (v1.2)               Iridium NEXT 1-10   \n",
      "32  Falcon 9 Full Thrust (v1.2)                   SpaceX CRS-10   \n",
      "\n",
      "                        Payload Type  Payload Mass (kg)  \\\n",
      "0                 Research Satellite               19.5   \n",
      "1                Research Satellites                8.0   \n",
      "2                                NaN              165.0   \n",
      "3                  Weather Satellite              180.0   \n",
      "4             Space Station Supplies              500.0   \n",
      "5            Communication Satellite              150.0   \n",
      "6             Space Station Supplies              677.0   \n",
      "7   Communication/Research Satellite              500.0   \n",
      "8            Communication Satellite             3170.0   \n",
      "9            Communication Satellite             3325.0   \n",
      "10            Space Station Supplies             2296.0   \n",
      "11           Communication Satellite             4535.0   \n",
      "12           Communication Satellite             4428.0   \n",
      "13            Space Station Supplies             2216.0   \n",
      "14            Space Station Supplies             2395.0   \n",
      "15                 Weather Satellite              570.0   \n",
      "16           Communication Satellite             4159.0   \n",
      "17           Communication Satellite             4159.0   \n",
      "18            Space Station Supplies             1898.0   \n",
      "19           Communication Satellite             4707.0   \n",
      "20            Space Station Supplies             1952.0   \n",
      "21                 Weather Satellite              553.0   \n",
      "22           Communication Satellite             5271.0   \n",
      "23            Space Station Supplies             3136.0   \n",
      "24           Communication Satellite             4696.0   \n",
      "25           Communication Satellite             3100.0   \n",
      "26           Communication Satellite             3600.0   \n",
      "27           Communication Satellite             3600.0   \n",
      "28            Space Station Supplies             2257.0   \n",
      "29           Communication Satellite             4600.0   \n",
      "30           Communication Satellite             5500.0   \n",
      "31           Communication Satellite             9600.0   \n",
      "32            Space Station Supplies             2490.0   \n",
      "\n",
      "                   Payload Orbit             Customer Name Customer Type  \\\n",
      "0                            NaN                     DARPA    Government   \n",
      "1                            NaN                      NASA    Government   \n",
      "2                Low Earth Orbit                       NaN           NaN   \n",
      "3                Low Earth Orbit                      ATSB    Government   \n",
      "4                Low Earth Orbit                      NASA    Government   \n",
      "5                Low Earth Orbit                   Orbcomm      Business   \n",
      "6                Low Earth Orbit                      NASA    Government   \n",
      "7                    Polar Orbit                  MDA Corp      Business   \n",
      "8   Geostationary Transfer Orbit                       SES      Business   \n",
      "9   Geostationary Transfer Orbit                   Thaicom      Business   \n",
      "10               Low Earth Orbit                      NASA    Government   \n",
      "11  Geostationary Transfer Orbit                   AsiaSat      Business   \n",
      "12  Geostationary Transfer Orbit                   AsiaSat      Business   \n",
      "13  Geostationary Transfer Orbit                      NASA    Government   \n",
      "14               Low Earth Orbit                      NASA    Government   \n",
      "15               Sun/Earth Orbit  US Air Force; NASA; NOAA    Government   \n",
      "16  Geostationary Transfer Orbit  Asia Broadcast Satellite      Business   \n",
      "17  Geostationary Transfer Orbit         Eutelsat (Satmex)      Business   \n",
      "18               Low Earth Orbit                      NASA    Government   \n",
      "19  Geostationary Transfer Orbit          Turkmenistan NSA    Government   \n",
      "20               Low Earth Orbit                      NASA    Government   \n",
      "21               Low Earth Orbit          NASA; NOAA; CNES    Government   \n",
      "22  Geostationary Transfer Orbit                       SES      Business   \n",
      "23               Low Earth Orbit                      NASA    Government   \n",
      "24  Geostationary Transfer Orbit    SKY Perfect JSAT Group      Business   \n",
      "25  Geostationary Transfer Orbit                   Thaicom      Business   \n",
      "26  Geostationary Transfer Orbit  Asia Broadcast Satellite      Business   \n",
      "27  Geostationary Transfer Orbit         Eutelsat (Satmex)      Business   \n",
      "28               Low Earth Orbit                      NASA    Government   \n",
      "29  Geostationary Transfer Orbit    SKY Perfect JSAT Group      Business   \n",
      "30  Geostationary Transfer Orbit                  Spacecom      Business   \n",
      "31               Low Earth Orbit    Iridium Communications      Business   \n",
      "32               Low Earth Orbit                      NASA    Government   \n",
      "\n",
      "   Customer Country Mission Outcome                   Failure Reason  \\\n",
      "0     United States         Failure        Engine Fire During Launch   \n",
      "1     United States         Failure          Collision During Launch   \n",
      "2               NaN         Success                              NaN   \n",
      "3          Malaysia         Success                              NaN   \n",
      "4     United States         Success                              NaN   \n",
      "5     United States         Failure     Engine Failure During Flight   \n",
      "6     United States         Success                              NaN   \n",
      "7            Canada         Success                              NaN   \n",
      "8        Luxembourg         Success                              NaN   \n",
      "9          Thailand         Success                              NaN   \n",
      "10    United States         Success                              NaN   \n",
      "11            China         Success                              NaN   \n",
      "12            China         Success                              NaN   \n",
      "13    United States         Success                              NaN   \n",
      "14    United States         Success                              NaN   \n",
      "15    United States         Success                              NaN   \n",
      "16          Bermuda         Success                              NaN   \n",
      "17  France (Mexico)         Success                              NaN   \n",
      "18    United States         Success                              NaN   \n",
      "19     Turkmenistan         Success                              NaN   \n",
      "20    United States         Failure  Vehicle Explosion During Flight   \n",
      "21    United States         Success                              NaN   \n",
      "22       Luxembourg         Success                              NaN   \n",
      "23    United States         Success                              NaN   \n",
      "24            Japan         Success                              NaN   \n",
      "25         Thailand         Success                              NaN   \n",
      "26          Bermuda         Success                              NaN   \n",
      "27  France (Mexico)         Success                              NaN   \n",
      "28    United States         Success                              NaN   \n",
      "29            Japan         Success                              NaN   \n",
      "30           Israel         Failure  Vehicle Explosion Before Launch   \n",
      "31    United States         Success                              NaN   \n",
      "32    United States         Success                              NaN   \n",
      "\n",
      "   Landing Type Landing Outcome  Launch Year  Success Flag Payload Category  \n",
      "0           NaN             NaN         2006             0            Light  \n",
      "1           NaN             NaN         2008             0            Light  \n",
      "2           NaN             NaN         2008             1            Light  \n",
      "3           NaN             NaN         2009             1            Light  \n",
      "4           NaN             NaN         2012             1            Light  \n",
      "5           NaN             NaN         2012             0            Light  \n",
      "6           NaN             NaN         2013             1            Light  \n",
      "7         Ocean         Failure         2013             1            Light  \n",
      "8           NaN             NaN         2013             1           Medium  \n",
      "9           NaN             NaN         2014             1           Medium  \n",
      "10        Ocean         Success         2014             1           Medium  \n",
      "11          NaN             NaN         2014             1           Medium  \n",
      "12          NaN             NaN         2014             1           Medium  \n",
      "13        Ocean         Success         2014             1           Medium  \n",
      "14         Ship         Failure         2015             1           Medium  \n",
      "15        Ocean         Success         2015             1            Light  \n",
      "16          NaN             NaN         2015             1           Medium  \n",
      "17          NaN             NaN         2015             1           Medium  \n",
      "18         Ship         Failure         2015             1           Medium  \n",
      "19          NaN             NaN         2015             1           Medium  \n",
      "20          NaN             NaN         2015             0           Medium  \n",
      "21         Ship         Failure         2016             1            Light  \n",
      "22         Ship         Failure         2016             1            Heavy  \n",
      "23         Ship         Success         2016             1           Medium  \n",
      "24         Ship         Success         2016             1           Medium  \n",
      "25         Ship         Success         2016             1           Medium  \n",
      "26         Ship         Failure         2016             1           Medium  \n",
      "27         Ship         Failure         2016             1           Medium  \n",
      "28         Land         Success         2016             1           Medium  \n",
      "29         Ship         Success         2016             1           Medium  \n",
      "30          NaN             NaN         2016             0            Heavy  \n",
      "31         Ship         Success         2017             1            Heavy  \n",
      "32         Land         Success         2017             1           Medium  \n"
     ]
    }
   ],
   "source": [
    "print(cleaned_data)"
   ]
  },
  {
   "cell_type": "code",
   "execution_count": 181,
   "id": "aa94227a-2201-47bf-b350-5cf97150355c",
   "metadata": {},
   "outputs": [],
   "source": [
    "#Correlation between payload weight and launch success rates with Pearson correlation coefficient"
   ]
  },
  {
   "cell_type": "code",
   "execution_count": 182,
   "id": "6f99df53-4176-4a7b-b31f-76f2cad5845b",
   "metadata": {},
   "outputs": [],
   "source": [
    "cleaned_data['Success Flag'] = cleaned_data['Mission Outcome'].apply(lambda x: 1 if x == 'Success' else 0)"
   ]
  },
  {
   "cell_type": "code",
   "execution_count": 183,
   "id": "84ea7334-6d0d-4f74-ae12-29f626d70812",
   "metadata": {},
   "outputs": [
    {
     "name": "stdout",
     "output_type": "stream",
     "text": [
      "                   Payload Mass (kg)  Success Flag\n",
      "Payload Mass (kg)           1.000000      0.244385\n",
      "Success Flag                0.244385      1.000000\n"
     ]
    }
   ],
   "source": [
    "correlation = cleaned_data[['Payload Mass (kg)', 'Success Flag']].corr()\n",
    "print(correlation)"
   ]
  },
  {
   "cell_type": "code",
   "execution_count": 239,
   "id": "1de90bda-0750-469f-854a-bf0e90500ba8",
   "metadata": {},
   "outputs": [
    {
     "name": "stdout",
     "output_type": "stream",
     "text": [
      "0.17048623921423323\n"
     ]
    }
   ],
   "source": [
    "correlation_coefficient, p_value = stats.pearsonr(cleaned_data['Payload Mass (kg)'], cleaned_data['Success Flag'])\n",
    "print(p_value)"
   ]
  },
  {
   "cell_type": "code",
   "execution_count": 184,
   "id": "72b430da-a1df-4c7f-8326-46bb8514dd80",
   "metadata": {},
   "outputs": [],
   "source": [
    "#Correlation is weak.This means that payload mass is not a major determining factor for success."
   ]
  },
  {
   "cell_type": "code",
   "execution_count": 185,
   "id": "5adc8420-5202-4a52-89c0-32d05c0fa689",
   "metadata": {},
   "outputs": [
    {
     "data": {
      "image/png": "[encoded data removed]",
      "text/plain": [
       "<Figure size 640x480 with 1 Axes>"
      ]
     },
     "metadata": {},
     "output_type": "display_data"
    }
   ],
   "source": [
    "import matplotlib.pyplot as plt\n",
    "plt.scatter(cleaned_data['Payload Mass (kg)'], cleaned_data['Success Flag'])\n",
    "plt.title('Correlation between Payload Weight and Launch Success')\n",
    "plt.xlabel('Payload Mass (kg)')\n",
    "plt.ylabel('Launch Success (1 = Success, 0 = Failure)')\n",
    "plt.show()"
   ]
  },
  {
   "cell_type": "code",
   "execution_count": 186,
   "id": "eda2edea-323f-4446-8c56-2875d2966228",
   "metadata": {},
   "outputs": [],
   "source": [
    "#Chi-Square Test to check correlation between different payload weight categories and success rate"
   ]
  },
  {
   "cell_type": "code",
   "execution_count": 187,
   "id": "f3a6e807-1dc1-4e99-87ab-42d8a1c9b551",
   "metadata": {},
   "outputs": [
    {
     "name": "stdout",
     "output_type": "stream",
     "text": [
      "Success Flag      0   1\n",
      "Payload Category       \n",
      "Heavy             1   2\n",
      "Light             3   7\n",
      "Medium            1  19\n"
     ]
    }
   ],
   "source": [
    "contingency_table = pd.crosstab(cleaned_data['Payload Category'], cleaned_data['Success Flag'])\n",
    "print(contingency_table)"
   ]
  },
  {
   "cell_type": "code",
   "execution_count": 188,
   "id": "abacda9a-b0a9-4a11-8c99-5cf784d0318c",
   "metadata": {},
   "outputs": [
    {
     "name": "stdout",
     "output_type": "stream",
     "text": [
      "Requirement already satisfied: scipy in /Users/reginaleonova/miniconda3/lib/python3.11/site-packages (1.14.1)\n",
      "Requirement already satisfied: numpy<2.3,>=1.23.5 in /Users/reginaleonova/miniconda3/lib/python3.11/site-packages (from scipy) (1.26.4)\n"
     ]
    }
   ],
   "source": [
    "!pip install scipy"
   ]
  },
  {
   "cell_type": "code",
   "execution_count": 189,
   "id": "9ad9a8d6-b10c-4800-8b0e-ecf59ccc019e",
   "metadata": {},
   "outputs": [
    {
     "name": "stdout",
     "output_type": "stream",
     "text": [
      "4.089642857142858\n",
      "0.12940329564566885\n"
     ]
    }
   ],
   "source": [
    "from scipy.stats import chi2_contingency\n",
    "chi2, p, dof, expected = chi2_contingency(contingency_table)\n",
    "print(chi2)\n",
    "print(p)"
   ]
  },
  {
   "cell_type": "code",
   "execution_count": 190,
   "id": "63ef7783-0fc0-41f8-8f90-89d0a7559f08",
   "metadata": {},
   "outputs": [],
   "source": [
    "#No statistically significant association between the payload weight categories and the success rates of SpaceX launches"
   ]
  },
  {
   "cell_type": "code",
   "execution_count": 191,
   "id": "3c60be9d-3b81-40b9-995c-cbfe157fdf97",
   "metadata": {},
   "outputs": [
    {
     "data": {
      "image/png": "[encoded data removed]",
      "text/plain": [
       "<Figure size 640x480 with 1 Axes>"
      ]
     },
     "metadata": {},
     "output_type": "display_data"
    }
   ],
   "source": [
    "contingency_table.plot(kind='bar', stacked=True)\n",
    "plt.title('Success Rates by Payload Weight Category')\n",
    "plt.xlabel('Payload Weight Category')\n",
    "plt.ylabel('Number of Missions')\n",
    "plt.show()"
   ]
  },
  {
   "cell_type": "code",
   "execution_count": 192,
   "id": "0f639dbb-fc29-4c52-92b5-3b6e6535dc04",
   "metadata": {},
   "outputs": [],
   "source": [
    "#Correlation between success rate and orbit"
   ]
  },
  {
   "cell_type": "code",
   "execution_count": 193,
   "id": "05a69f80-a587-49d2-aa4a-3fe3e5a80049",
   "metadata": {},
   "outputs": [],
   "source": [
    "def categorize_orbit(orbit):\n",
    "    if orbit == 'Low Earth Orbit':\n",
    "        return '1'\n",
    "    elif orbit == 'Polar Orbit':\n",
    "        return '2'\n",
    "    elif orbit == 'Geostationary Transfer Orbit':\n",
    "        return '3'\n",
    "    else:\n",
    "        return '4'\n",
    "cleaned_data['Orbit Category'] = cleaned_data['Payload Orbit'].apply(categorize_orbit)"
   ]
  },
  {
   "cell_type": "code",
   "execution_count": 194,
   "id": "fcc0d09d-c63e-44bc-b7a5-22d536926344",
   "metadata": {},
   "outputs": [
    {
     "name": "stdout",
     "output_type": "stream",
     "text": [
      "   Flight Number        Launch Date Launch Time                  Launch Site  \\\n",
      "0           F1-1      24 March 2006       22:30             Marshall Islands   \n",
      "1           F1-3      3 August 2008       03:34             Marshall Islands   \n",
      "2           F1-4  28 September 2008       23:15             Marshall Islands   \n",
      "3           F1-5       14 July 2009       03:35             Marshall Islands   \n",
      "4           F9-4     8 October 2012       00:35     Cape Canaveral AFS LC-40   \n",
      "5           F9-4     8 October 2012       00:35     Cape Canaveral AFS LC-40   \n",
      "6           F9-5       1 March 2013       15:10     Cape Canaveral AFS LC-40   \n",
      "7           F9-6  29 September 2013       16:00        Vandenberg AFB SLC-4E   \n",
      "8           F9-7    3 December 2013       22:41     Cape Canaveral AFS LC-40   \n",
      "9           F9-8    6 December 2014       22:06     Cape Canaveral AFS LC-40   \n",
      "10          F9-9      18 April 2014       19:25     Cape Canaveral AFS LC-40   \n",
      "11         F9-11      5 August 2014       08:00     Cape Canaveral AFS LC-40   \n",
      "12         F9-12   7 September 2014       05:00     Cape Canaveral AFS LC-40   \n",
      "13         F9-13  21 September 2014       05:52     Cape Canaveral AFS LC-40   \n",
      "14         F9-14    10 January 2015       09:47     Cape Canaveral AFS LC-40   \n",
      "15         F9-15   11 February 2015       23:03     Cape Canaveral AFS LC-40   \n",
      "16         F9-16       2 March 2015       03:50     Cape Canaveral AFS LC-40   \n",
      "17         F9-16       2 March 2015       03:50     Cape Canaveral AFS LC-40   \n",
      "18         F9-17      14 April 2015       20:10     Cape Canaveral AFS LC-40   \n",
      "19         F9-18      27 April 2015       23:03     Cape Canaveral AFS LC-40   \n",
      "20         F9-19       28 June 2015       14:21     Cape Canaveral AFS LC-40   \n",
      "21         F9-21    17 January 2016       18:42        Vandenberg AFB SLC-4E   \n",
      "22          FT-2       4 March 2016       23:35     Cape Canaveral AFS LC-40   \n",
      "23          FT-3       8 April 2016       20:43     Cape Canaveral AFS LC-40   \n",
      "24          FT-4         6 May 2016       05:21     Cape Canaveral AFS LC-40   \n",
      "25          FT-5        27 May 2016       21:39     Cape Canaveral AFS LC-40   \n",
      "26          FT-6       15 June 2016       14:29     Cape Canaveral AFS LC-40   \n",
      "27          FT-6       15 June 2016       14:29     Cape Canaveral AFS LC-40   \n",
      "28          FT-7       18 July 2016       04:45     Cape Canaveral AFS LC-40   \n",
      "29          FT-8     14 August 2016       05:26     Cape Canaveral AFS LC-40   \n",
      "30          FT-9   1 September 2016       13:07     Cape Canaveral AFS LC-40   \n",
      "31         FT-10    14 January 2017       17:54        Vandenberg AFB SLC-4E   \n",
      "32         FT-11   19 February 2017       14:39  Kennedy Space Center LC-39A   \n",
      "\n",
      "                   Vehicle Type                    Payload Name  \\\n",
      "0                      Falcon 1                     FalconSAT-2   \n",
      "1                      Falcon 1              PRESat, NanoSail-D   \n",
      "2                      Falcon 1                RatSat (DemoSat)   \n",
      "3                      Falcon 1                        RazakSAT   \n",
      "4               Falcon 9 (v1.0)                    SpaceX CRS-1   \n",
      "5               Falcon 9 (v1.0)                     Orbcomm-OG2   \n",
      "6               Falcon 9 (v1.0)                    SpaceX CRS-2   \n",
      "7               Falcon 9 (v1.1)                        CASSIOPE   \n",
      "8               Falcon 9 (v1.1)                           SES-8   \n",
      "9               Falcon 9 (v1.1)                       Thaicom 6   \n",
      "10              Falcon 9 (v1.1)                    SpaceX CRS-3   \n",
      "11              Falcon 9 (v1.1)                       AsiaSat 8   \n",
      "12              Falcon 9 (v1.1)                       AsiaSat 6   \n",
      "13              Falcon 9 (v1.1)                    SpaceX CRS-4   \n",
      "14              Falcon 9 (v1.1)                    SpaceX CRS-5   \n",
      "15              Falcon 9 (v1.1)                          DSCOVR   \n",
      "16              Falcon 9 (v1.1)                          ABS-3A   \n",
      "17              Falcon 9 (v1.1)  Eutelsat 115 West B (Satmex 7)   \n",
      "18              Falcon 9 (v1.1)                    SpaceX CRS-6   \n",
      "19              Falcon 9 (v1.1)       TurkmenAlem 52E/MonacoSAT   \n",
      "20              Falcon 9 (v1.1)                    SpaceX CRS-7   \n",
      "21              Falcon 9 (v1.1)                         Jason-3   \n",
      "22  Falcon 9 Full Thrust (v1.2)                           SES-9   \n",
      "23  Falcon 9 Full Thrust (v1.2)                    SpaceX CRS-8   \n",
      "24  Falcon 9 Full Thrust (v1.2)                        JCSAT-14   \n",
      "25  Falcon 9 Full Thrust (v1.2)                       Thaicom 8   \n",
      "26  Falcon 9 Full Thrust (v1.2)                          ABS-2A   \n",
      "27  Falcon 9 Full Thrust (v1.2)  Eutelsat 117 West B (Satmex 9)   \n",
      "28  Falcon 9 Full Thrust (v1.2)                    SpaceX CRS-9   \n",
      "29  Falcon 9 Full Thrust (v1.2)                        JCSAT-16   \n",
      "30  Falcon 9 Full Thrust (v1.2)                          Amos-6   \n",
      "31  Falcon 9 Full Thrust (v1.2)               Iridium NEXT 1-10   \n",
      "32  Falcon 9 Full Thrust (v1.2)                   SpaceX CRS-10   \n",
      "\n",
      "                        Payload Type  Payload Mass (kg)  \\\n",
      "0                 Research Satellite               19.5   \n",
      "1                Research Satellites                8.0   \n",
      "2                                NaN              165.0   \n",
      "3                  Weather Satellite              180.0   \n",
      "4             Space Station Supplies              500.0   \n",
      "5            Communication Satellite              150.0   \n",
      "6             Space Station Supplies              677.0   \n",
      "7   Communication/Research Satellite              500.0   \n",
      "8            Communication Satellite             3170.0   \n",
      "9            Communication Satellite             3325.0   \n",
      "10            Space Station Supplies             2296.0   \n",
      "11           Communication Satellite             4535.0   \n",
      "12           Communication Satellite             4428.0   \n",
      "13            Space Station Supplies             2216.0   \n",
      "14            Space Station Supplies             2395.0   \n",
      "15                 Weather Satellite              570.0   \n",
      "16           Communication Satellite             4159.0   \n",
      "17           Communication Satellite             4159.0   \n",
      "18            Space Station Supplies             1898.0   \n",
      "19           Communication Satellite             4707.0   \n",
      "20            Space Station Supplies             1952.0   \n",
      "21                 Weather Satellite              553.0   \n",
      "22           Communication Satellite             5271.0   \n",
      "23            Space Station Supplies             3136.0   \n",
      "24           Communication Satellite             4696.0   \n",
      "25           Communication Satellite             3100.0   \n",
      "26           Communication Satellite             3600.0   \n",
      "27           Communication Satellite             3600.0   \n",
      "28            Space Station Supplies             2257.0   \n",
      "29           Communication Satellite             4600.0   \n",
      "30           Communication Satellite             5500.0   \n",
      "31           Communication Satellite             9600.0   \n",
      "32            Space Station Supplies             2490.0   \n",
      "\n",
      "                   Payload Orbit             Customer Name Customer Type  \\\n",
      "0                            NaN                     DARPA    Government   \n",
      "1                            NaN                      NASA    Government   \n",
      "2                Low Earth Orbit                       NaN           NaN   \n",
      "3                Low Earth Orbit                      ATSB    Government   \n",
      "4                Low Earth Orbit                      NASA    Government   \n",
      "5                Low Earth Orbit                   Orbcomm      Business   \n",
      "6                Low Earth Orbit                      NASA    Government   \n",
      "7                    Polar Orbit                  MDA Corp      Business   \n",
      "8   Geostationary Transfer Orbit                       SES      Business   \n",
      "9   Geostationary Transfer Orbit                   Thaicom      Business   \n",
      "10               Low Earth Orbit                      NASA    Government   \n",
      "11  Geostationary Transfer Orbit                   AsiaSat      Business   \n",
      "12  Geostationary Transfer Orbit                   AsiaSat      Business   \n",
      "13  Geostationary Transfer Orbit                      NASA    Government   \n",
      "14               Low Earth Orbit                      NASA    Government   \n",
      "15               Sun/Earth Orbit  US Air Force; NASA; NOAA    Government   \n",
      "16  Geostationary Transfer Orbit  Asia Broadcast Satellite      Business   \n",
      "17  Geostationary Transfer Orbit         Eutelsat (Satmex)      Business   \n",
      "18               Low Earth Orbit                      NASA    Government   \n",
      "19  Geostationary Transfer Orbit          Turkmenistan NSA    Government   \n",
      "20               Low Earth Orbit                      NASA    Government   \n",
      "21               Low Earth Orbit          NASA; NOAA; CNES    Government   \n",
      "22  Geostationary Transfer Orbit                       SES      Business   \n",
      "23               Low Earth Orbit                      NASA    Government   \n",
      "24  Geostationary Transfer Orbit    SKY Perfect JSAT Group      Business   \n",
      "25  Geostationary Transfer Orbit                   Thaicom      Business   \n",
      "26  Geostationary Transfer Orbit  Asia Broadcast Satellite      Business   \n",
      "27  Geostationary Transfer Orbit         Eutelsat (Satmex)      Business   \n",
      "28               Low Earth Orbit                      NASA    Government   \n",
      "29  Geostationary Transfer Orbit    SKY Perfect JSAT Group      Business   \n",
      "30  Geostationary Transfer Orbit                  Spacecom      Business   \n",
      "31               Low Earth Orbit    Iridium Communications      Business   \n",
      "32               Low Earth Orbit                      NASA    Government   \n",
      "\n",
      "   Customer Country Mission Outcome                   Failure Reason  \\\n",
      "0     United States         Failure        Engine Fire During Launch   \n",
      "1     United States         Failure          Collision During Launch   \n",
      "2               NaN         Success                              NaN   \n",
      "3          Malaysia         Success                              NaN   \n",
      "4     United States         Success                              NaN   \n",
      "5     United States         Failure     Engine Failure During Flight   \n",
      "6     United States         Success                              NaN   \n",
      "7            Canada         Success                              NaN   \n",
      "8        Luxembourg         Success                              NaN   \n",
      "9          Thailand         Success                              NaN   \n",
      "10    United States         Success                              NaN   \n",
      "11            China         Success                              NaN   \n",
      "12            China         Success                              NaN   \n",
      "13    United States         Success                              NaN   \n",
      "14    United States         Success                              NaN   \n",
      "15    United States         Success                              NaN   \n",
      "16          Bermuda         Success                              NaN   \n",
      "17  France (Mexico)         Success                              NaN   \n",
      "18    United States         Success                              NaN   \n",
      "19     Turkmenistan         Success                              NaN   \n",
      "20    United States         Failure  Vehicle Explosion During Flight   \n",
      "21    United States         Success                              NaN   \n",
      "22       Luxembourg         Success                              NaN   \n",
      "23    United States         Success                              NaN   \n",
      "24            Japan         Success                              NaN   \n",
      "25         Thailand         Success                              NaN   \n",
      "26          Bermuda         Success                              NaN   \n",
      "27  France (Mexico)         Success                              NaN   \n",
      "28    United States         Success                              NaN   \n",
      "29            Japan         Success                              NaN   \n",
      "30           Israel         Failure  Vehicle Explosion Before Launch   \n",
      "31    United States         Success                              NaN   \n",
      "32    United States         Success                              NaN   \n",
      "\n",
      "   Landing Type Landing Outcome  Launch Year  Success Flag Payload Category  \\\n",
      "0           NaN             NaN         2006             0            Light   \n",
      "1           NaN             NaN         2008             0            Light   \n",
      "2           NaN             NaN         2008             1            Light   \n",
      "3           NaN             NaN         2009             1            Light   \n",
      "4           NaN             NaN         2012             1            Light   \n",
      "5           NaN             NaN         2012             0            Light   \n",
      "6           NaN             NaN         2013             1            Light   \n",
      "7         Ocean         Failure         2013             1            Light   \n",
      "8           NaN             NaN         2013             1           Medium   \n",
      "9           NaN             NaN         2014             1           Medium   \n",
      "10        Ocean         Success         2014             1           Medium   \n",
      "11          NaN             NaN         2014             1           Medium   \n",
      "12          NaN             NaN         2014             1           Medium   \n",
      "13        Ocean         Success         2014             1           Medium   \n",
      "14         Ship         Failure         2015             1           Medium   \n",
      "15        Ocean         Success         2015             1            Light   \n",
      "16          NaN             NaN         2015             1           Medium   \n",
      "17          NaN             NaN         2015             1           Medium   \n",
      "18         Ship         Failure         2015             1           Medium   \n",
      "19          NaN             NaN         2015             1           Medium   \n",
      "20          NaN             NaN         2015             0           Medium   \n",
      "21         Ship         Failure         2016             1            Light   \n",
      "22         Ship         Failure         2016             1            Heavy   \n",
      "23         Ship         Success         2016             1           Medium   \n",
      "24         Ship         Success         2016             1           Medium   \n",
      "25         Ship         Success         2016             1           Medium   \n",
      "26         Ship         Failure         2016             1           Medium   \n",
      "27         Ship         Failure         2016             1           Medium   \n",
      "28         Land         Success         2016             1           Medium   \n",
      "29         Ship         Success         2016             1           Medium   \n",
      "30          NaN             NaN         2016             0            Heavy   \n",
      "31         Ship         Success         2017             1            Heavy   \n",
      "32         Land         Success         2017             1           Medium   \n",
      "\n",
      "   Orbit Category  \n",
      "0               4  \n",
      "1               4  \n",
      "2               1  \n",
      "3               1  \n",
      "4               1  \n",
      "5               1  \n",
      "6               1  \n",
      "7               2  \n",
      "8               3  \n",
      "9               3  \n",
      "10              1  \n",
      "11              3  \n",
      "12              3  \n",
      "13              3  \n",
      "14              1  \n",
      "15              4  \n",
      "16              3  \n",
      "17              3  \n",
      "18              1  \n",
      "19              3  \n",
      "20              1  \n",
      "21              1  \n",
      "22              3  \n",
      "23              1  \n",
      "24              3  \n",
      "25              3  \n",
      "26              3  \n",
      "27              3  \n",
      "28              1  \n",
      "29              3  \n",
      "30              3  \n",
      "31              1  \n",
      "32              1  \n"
     ]
    }
   ],
   "source": [
    "print(cleaned_data)"
   ]
  },
  {
   "cell_type": "code",
   "execution_count": 195,
   "id": "0446383b-5bd7-42e8-ad53-3f3eea8ac887",
   "metadata": {},
   "outputs": [
    {
     "name": "stdout",
     "output_type": "stream",
     "text": [
      "Success Flag    0   1\n",
      "Orbit Category       \n",
      "1               2  12\n",
      "2               0   1\n",
      "3               1  14\n",
      "4               2   1\n"
     ]
    }
   ],
   "source": [
    "contingency_table = pd.crosstab(cleaned_data['Orbit Category'], cleaned_data['Success Flag'])\n",
    "print(contingency_table)"
   ]
  },
  {
   "cell_type": "code",
   "execution_count": 196,
   "id": "2135aa1a-4e66-40ed-a2ac-066c225b6462",
   "metadata": {},
   "outputs": [
    {
     "name": "stdout",
     "output_type": "stream",
     "text": [
      "0.0652184147564805\n"
     ]
    }
   ],
   "source": [
    "chi2, p, dof, expected = chi2_contingency(contingency_table)\n",
    "print(p)\n",
    "#there is not enough evidence to conclude that there is a significant association between the orbit category and the success rate of SpaceX missions"
   ]
  },
  {
   "cell_type": "code",
   "execution_count": 197,
   "id": "4965f1ba-96b8-4c1e-b998-b9b42abb3604",
   "metadata": {},
   "outputs": [],
   "source": [
    "#Correlation between the type of mission (e.g., government, commercial, scientific) and success rates"
   ]
  },
  {
   "cell_type": "code",
   "execution_count": 198,
   "id": "0b3147a6-7c21-4cca-9abf-38a0eb3625d7",
   "metadata": {},
   "outputs": [
    {
     "name": "stdout",
     "output_type": "stream",
     "text": [
      "Success Flag   0   1\n",
      "Customer Type       \n",
      "Business       2  14\n",
      "Government     3  13\n"
     ]
    }
   ],
   "source": [
    "contingency_table = pd.crosstab(cleaned_data['Customer Type'], cleaned_data['Success Flag'])\n",
    "print(contingency_table)"
   ]
  },
  {
   "cell_type": "code",
   "execution_count": 199,
   "id": "6b12aaad-d755-40cd-a9b6-f0167a21d646",
   "metadata": {},
   "outputs": [
    {
     "name": "stdout",
     "output_type": "stream",
     "text": [
      "1.0\n"
     ]
    }
   ],
   "source": [
    "chi2, p, dof, expected = chi2_contingency(contingency_table)\n",
    "print(p)\n",
    "#No correlation"
   ]
  },
  {
   "cell_type": "code",
   "execution_count": 200,
   "id": "7b3c8421-bac1-4fda-bca6-4604f89e894e",
   "metadata": {},
   "outputs": [],
   "source": [
    "#Correlation between the type of payload and success rates"
   ]
  },
  {
   "cell_type": "code",
   "execution_count": 201,
   "id": "2d72bd6e-c0dc-49d3-82d4-cceff6913a00",
   "metadata": {},
   "outputs": [
    {
     "name": "stdout",
     "output_type": "stream",
     "text": [
      "Success Flag                      0   1\n",
      "Payload Type                           \n",
      "Communication Satellite           2  14\n",
      "Communication/Research Satellite  0   1\n",
      "Research Satellite                1   0\n",
      "Research Satellites               1   0\n",
      "Space Station Supplies            1   9\n",
      "Weather Satellite                 0   3\n"
     ]
    }
   ],
   "source": [
    "contingency_table = pd.crosstab(cleaned_data['Payload Type'], cleaned_data['Success Flag'])\n",
    "print(contingency_table)"
   ]
  },
  {
   "cell_type": "code",
   "execution_count": 202,
   "id": "519e94c9-49f5-4883-ad57-88c6da252d8a",
   "metadata": {},
   "outputs": [
    {
     "name": "stdout",
     "output_type": "stream",
     "text": [
      "0.03619454156199013\n",
      "11.89925925925926\n"
     ]
    }
   ],
   "source": [
    "chi2, p, dof, expected = chi2_contingency(contingency_table)\n",
    "print(p)\n",
    "print(chi2)\n",
    "#there is a statistically significant relationship between the type of payload and the success rate"
   ]
  },
  {
   "cell_type": "code",
   "execution_count": 203,
   "id": "3a7251ef-78ee-41de-b163-ed1a778ca32b",
   "metadata": {},
   "outputs": [
    {
     "data": {
      "image/png": "[encoded data removed]",
      "text/plain": [
       "<Figure size 640x480 with 1 Axes>"
      ]
     },
     "metadata": {},
     "output_type": "display_data"
    }
   ],
   "source": [
    "contingency_table.plot(kind='bar', stacked=True)\n",
    "plt.title('Success Rates by Payload Type')\n",
    "plt.xlabel('Payload Type')\n",
    "plt.ylabel('Number of Missions')\n",
    "plt.show()"
   ]
  },
  {
   "cell_type": "code",
   "execution_count": 204,
   "id": "eeaba8b4-f100-4a8f-96b1-2f4a761e7a83",
   "metadata": {},
   "outputs": [],
   "source": [
    "#Correlation between payload type, customer type and success rate "
   ]
  },
  {
   "cell_type": "code",
   "execution_count": 205,
   "id": "866405b2-a462-4865-a4a7-6e1322170258",
   "metadata": {},
   "outputs": [
    {
     "name": "stdout",
     "output_type": "stream",
     "text": [
      "Success Flag                                    0   1\n",
      "Payload Type                     Customer Type       \n",
      "Communication Satellite          Business       2  13\n",
      "                                 Government     0   1\n",
      "Communication/Research Satellite Business       0   1\n",
      "Research Satellite               Government     1   0\n",
      "Research Satellites              Government     1   0\n",
      "Space Station Supplies           Government     1   9\n",
      "Weather Satellite                Government     0   3\n"
     ]
    }
   ],
   "source": [
    "contingency_table = pd.crosstab(index=[cleaned_data['Payload Type'], cleaned_data['Customer Type']],\n",
    "                                  columns=cleaned_data['Success Flag'])\n",
    "print(contingency_table)"
   ]
  },
  {
   "cell_type": "code",
   "execution_count": 206,
   "id": "dc95212d-b783-4166-b239-dc94e354a39f",
   "metadata": {},
   "outputs": [
    {
     "name": "stdout",
     "output_type": "stream",
     "text": [
      "0.03619454156199013\n"
     ]
    }
   ],
   "source": [
    "chi2_stat, p_val, dof, ex = chi2_contingency(contingency_table)\n",
    "print(p)\n",
    "#There is correlation"
   ]
  },
  {
   "cell_type": "code",
   "execution_count": 207,
   "id": "e7441df4-44d3-431c-9d8d-4634d93c8509",
   "metadata": {},
   "outputs": [
    {
     "data": {
      "image/png": "[encoded data removed]",
      "text/plain": [
       "<Figure size 640x480 with 1 Axes>"
      ]
     },
     "metadata": {},
     "output_type": "display_data"
    }
   ],
   "source": [
    "contingency_table.plot(kind='bar', stacked=True)\n",
    "plt.title('Success Rates by Payload Type & Customer Type')\n",
    "plt.xlabel('Payload Type')\n",
    "plt.ylabel('Number of Missions')\n",
    "plt.show()"
   ]
  },
  {
   "cell_type": "code",
   "execution_count": 208,
   "id": "31ad41be-47eb-4857-ae64-30d722e3cf86",
   "metadata": {},
   "outputs": [],
   "source": [
    "#Correlation between payload type, orbit and success rate "
   ]
  },
  {
   "cell_type": "code",
   "execution_count": 209,
   "id": "cec5944f-48f3-4b9a-914a-9801d2671d93",
   "metadata": {},
   "outputs": [
    {
     "name": "stdout",
     "output_type": "stream",
     "text": [
      "Success Flag                                                   0   1\n",
      "Payload Type                     Payload Orbit                      \n",
      "Communication Satellite          Geostationary Transfer Orbit  1  13\n",
      "                                 Low Earth Orbit               1   1\n",
      "Communication/Research Satellite Polar Orbit                   0   1\n",
      "Space Station Supplies           Geostationary Transfer Orbit  0   1\n",
      "                                 Low Earth Orbit               1   8\n",
      "Weather Satellite                Low Earth Orbit               0   2\n",
      "                                 Sun/Earth Orbit               0   1\n"
     ]
    }
   ],
   "source": [
    "contingency_table = pd.crosstab(index=[cleaned_data['Payload Type'], cleaned_data['Payload Orbit']],\n",
    "                                  columns=cleaned_data['Success Flag'])\n",
    "print(contingency_table)"
   ]
  },
  {
   "cell_type": "code",
   "execution_count": 210,
   "id": "578209ea-cb4b-4a3a-b848-a3b2711c654b",
   "metadata": {},
   "outputs": [
    {
     "name": "stdout",
     "output_type": "stream",
     "text": [
      "0.6428258266368201\n",
      "4.250440917107584\n"
     ]
    }
   ],
   "source": [
    "chi2, p, dof, expected = chi2_contingency(contingency_table)\n",
    "print(p)\n",
    "print(chi2)\n",
    "#No Correlation"
   ]
  },
  {
   "cell_type": "code",
   "execution_count": 211,
   "id": "912f0cf3-9d42-4e6a-a052-9b3f8eb37341",
   "metadata": {},
   "outputs": [],
   "source": [
    "#Correlation between customer type, orbit and success rate "
   ]
  },
  {
   "cell_type": "code",
   "execution_count": 212,
   "id": "fba3d2eb-f080-45f9-8001-4d41c2d49322",
   "metadata": {},
   "outputs": [
    {
     "name": "stdout",
     "output_type": "stream",
     "text": [
      "Success Flag                                0   1\n",
      "Customer Type Payload Orbit                      \n",
      "Business      Geostationary Transfer Orbit  1  12\n",
      "              Low Earth Orbit               1   1\n",
      "              Polar Orbit                   0   1\n",
      "Government    Geostationary Transfer Orbit  0   2\n",
      "              Low Earth Orbit               1  10\n",
      "              Sun/Earth Orbit               0   1\n"
     ]
    }
   ],
   "source": [
    "contingency_table = pd.crosstab(index=[cleaned_data['Customer Type'], cleaned_data['Payload Orbit']],\n",
    "                                  columns=cleaned_data['Success Flag'])\n",
    "print(contingency_table)"
   ]
  },
  {
   "cell_type": "code",
   "execution_count": 213,
   "id": "7bb2bd0d-bd5f-4f2d-8443-bbfe7c51000f",
   "metadata": {},
   "outputs": [
    {
     "name": "stdout",
     "output_type": "stream",
     "text": [
      "0.53695593469795\n",
      "4.087024087024088\n"
     ]
    }
   ],
   "source": [
    "chi2, p, dof, expected = chi2_contingency(contingency_table)\n",
    "print(p)\n",
    "print(chi2)\n",
    "#No correlation"
   ]
  },
  {
   "cell_type": "code",
   "execution_count": 214,
   "id": "859b92b2-e9d6-481c-a57d-9becd2dc8daa",
   "metadata": {},
   "outputs": [],
   "source": [
    "#Correlation between payload category, orbit and success rate "
   ]
  },
  {
   "cell_type": "code",
   "execution_count": 215,
   "id": "e7b70875-0afc-4de0-9bac-b89e017be0fc",
   "metadata": {},
   "outputs": [
    {
     "name": "stdout",
     "output_type": "stream",
     "text": [
      "Success Flag                                   0   1\n",
      "Payload Category Payload Orbit                      \n",
      "Heavy            Geostationary Transfer Orbit  1   1\n",
      "                 Low Earth Orbit               0   1\n",
      "Light            Low Earth Orbit               1   5\n",
      "                 Polar Orbit                   0   1\n",
      "                 Sun/Earth Orbit               0   1\n",
      "Medium           Geostationary Transfer Orbit  0  13\n",
      "                 Low Earth Orbit               1   6\n"
     ]
    }
   ],
   "source": [
    "contingency_table = pd.crosstab(index=[cleaned_data['Payload Category'], cleaned_data['Payload Orbit']],\n",
    "                                  columns=cleaned_data['Success Flag'])\n",
    "print(contingency_table)"
   ]
  },
  {
   "cell_type": "code",
   "execution_count": 216,
   "id": "1116f893-85fe-4d9b-91db-132bdea9ef5f",
   "metadata": {},
   "outputs": [
    {
     "name": "stdout",
     "output_type": "stream",
     "text": [
      "0.4299550888562007\n"
     ]
    }
   ],
   "source": [
    "chi2, p, dof, expected = chi2_contingency(contingency_table)\n",
    "print(p)\n",
    "#No correlation"
   ]
  },
  {
   "cell_type": "code",
   "execution_count": 217,
   "id": "6f22aa70-8cbe-4491-8eae-5a969992f751",
   "metadata": {},
   "outputs": [],
   "source": [
    "#Correlation between payload category, customer type and success rate "
   ]
  },
  {
   "cell_type": "code",
   "execution_count": 218,
   "id": "e24c40bc-3f8b-4b45-8b94-eba479f25cc5",
   "metadata": {},
   "outputs": [
    {
     "name": "stdout",
     "output_type": "stream",
     "text": [
      "Success Flag                    0   1\n",
      "Payload Category Customer Type       \n",
      "Heavy            Business       1   2\n",
      "Light            Business       1   1\n",
      "                 Government     2   5\n",
      "Medium           Business       0  11\n",
      "                 Government     1   8\n"
     ]
    }
   ],
   "source": [
    "contingency_table = pd.crosstab(index=[cleaned_data['Payload Category'], cleaned_data['Customer Type']],\n",
    "                                  columns=cleaned_data['Success Flag'])\n",
    "print(contingency_table)"
   ]
  },
  {
   "cell_type": "code",
   "execution_count": 219,
   "id": "166ed9cc-f109-477d-afe3-5ae4093c52c0",
   "metadata": {},
   "outputs": [
    {
     "name": "stdout",
     "output_type": "stream",
     "text": [
      "0.23345112787860278\n"
     ]
    }
   ],
   "source": [
    "chi2, p, dof, expected = chi2_contingency(contingency_table)\n",
    "print(p)\n",
    "#No correlation"
   ]
  },
  {
   "cell_type": "code",
   "execution_count": 220,
   "id": "cc998bdb-527e-4cd7-95f6-717107d64146",
   "metadata": {},
   "outputs": [],
   "source": [
    "#Correlation between payload category, payload type and success rate "
   ]
  },
  {
   "cell_type": "code",
   "execution_count": 221,
   "id": "e0a8ff55-1411-4337-bd31-e1d7cb6dbf94",
   "metadata": {},
   "outputs": [
    {
     "name": "stdout",
     "output_type": "stream",
     "text": [
      "Success Flag                                       0   1\n",
      "Payload Category Payload Type                           \n",
      "Heavy            Communication Satellite           1   2\n",
      "Light            Communication Satellite           1   0\n",
      "                 Communication/Research Satellite  0   1\n",
      "                 Research Satellite                1   0\n",
      "                 Research Satellites               1   0\n",
      "                 Space Station Supplies            0   2\n",
      "                 Weather Satellite                 0   3\n",
      "Medium           Communication Satellite           0  12\n",
      "                 Space Station Supplies            1   7\n"
     ]
    }
   ],
   "source": [
    "contingency_table = pd.crosstab(index=[cleaned_data['Payload Category'], cleaned_data['Payload Type']],\n",
    "                                  columns=cleaned_data['Success Flag'])\n",
    "print(contingency_table)"
   ]
  },
  {
   "cell_type": "code",
   "execution_count": 222,
   "id": "24686cb9-f526-4f00-b8f2-14583369f6be",
   "metadata": {},
   "outputs": [
    {
     "name": "stdout",
     "output_type": "stream",
     "text": [
      "0.009237728848308162\n"
     ]
    }
   ],
   "source": [
    "chi2, p, dof, expected = chi2_contingency(contingency_table)\n",
    "print(p)\n",
    "#There is correlation"
   ]
  },
  {
   "cell_type": "code",
   "execution_count": 223,
   "id": "18521a01-a77d-4836-b938-83f5857823f7",
   "metadata": {},
   "outputs": [],
   "source": [
    "#Decision tree to check correlation between payload category, payload type and success rate "
   ]
  },
  {
   "cell_type": "code",
   "execution_count": 224,
   "id": "fda4eef9-aa82-4aec-abb9-750a136ee42d",
   "metadata": {},
   "outputs": [
    {
     "name": "stdout",
     "output_type": "stream",
     "text": [
      "Requirement already satisfied: pandas in /Users/reginaleonova/miniconda3/lib/python3.11/site-packages (2.2.1)\n",
      "Requirement already satisfied: scikit-learn in /Users/reginaleonova/miniconda3/lib/python3.11/site-packages (1.5.2)\n",
      "Requirement already satisfied: matplotlib in /Users/reginaleonova/miniconda3/lib/python3.11/site-packages (3.8.4)\n",
      "Requirement already satisfied: numpy<2,>=1.23.2 in /Users/reginaleonova/miniconda3/lib/python3.11/site-packages (from pandas) (1.26.4)\n",
      "Requirement already satisfied: python-dateutil>=2.8.2 in /Users/reginaleonova/miniconda3/lib/python3.11/site-packages (from pandas) (2.8.2)\n",
      "Requirement already satisfied: pytz>=2020.1 in /Users/reginaleonova/miniconda3/lib/python3.11/site-packages (from pandas) (2023.3.post1)\n",
      "Requirement already satisfied: tzdata>=2022.7 in /Users/reginaleonova/miniconda3/lib/python3.11/site-packages (from pandas) (2023.3)\n",
      "Requirement already satisfied: scipy>=1.6.0 in /Users/reginaleonova/miniconda3/lib/python3.11/site-packages (from scikit-learn) (1.14.1)\n",
      "Requirement already satisfied: joblib>=1.2.0 in /Users/reginaleonova/miniconda3/lib/python3.11/site-packages (from scikit-learn) (1.4.2)\n",
      "Requirement already satisfied: threadpoolctl>=3.1.0 in /Users/reginaleonova/miniconda3/lib/python3.11/site-packages (from scikit-learn) (3.5.0)\n",
      "Requirement already satisfied: contourpy>=1.0.1 in /Users/reginaleonova/miniconda3/lib/python3.11/site-packages (from matplotlib) (1.2.0)\n",
      "Requirement already satisfied: cycler>=0.10 in /Users/reginaleonova/miniconda3/lib/python3.11/site-packages (from matplotlib) (0.11.0)\n",
      "Requirement already satisfied: fonttools>=4.22.0 in /Users/reginaleonova/miniconda3/lib/python3.11/site-packages (from matplotlib) (4.51.0)\n",
      "Requirement already satisfied: kiwisolver>=1.3.1 in /Users/reginaleonova/miniconda3/lib/python3.11/site-packages (from matplotlib) (1.4.4)\n",
      "Requirement already satisfied: packaging>=20.0 in /Users/reginaleonova/miniconda3/lib/python3.11/site-packages (from matplotlib) (23.1)\n",
      "Requirement already satisfied: pillow>=8 in /Users/reginaleonova/miniconda3/lib/python3.11/site-packages (from matplotlib) (10.3.0)\n",
      "Requirement already satisfied: pyparsing>=2.3.1 in /Users/reginaleonova/miniconda3/lib/python3.11/site-packages (from matplotlib) (3.0.9)\n",
      "Requirement already satisfied: six>=1.5 in /Users/reginaleonova/miniconda3/lib/python3.11/site-packages (from python-dateutil>=2.8.2->pandas) (1.16.0)\n",
      "Note: you may need to restart the kernel to use updated packages.\n"
     ]
    }
   ],
   "source": [
    "pip install pandas scikit-learn matplotlib"
   ]
  },
  {
   "cell_type": "code",
   "execution_count": 225,
   "id": "9991e652-87bd-41b4-a857-6ea76c9b76d8",
   "metadata": {},
   "outputs": [],
   "source": [
    "from sklearn.model_selection import train_test_split\n",
    "from sklearn.tree import DecisionTreeClassifier\n",
    "from sklearn.tree import plot_tree"
   ]
  },
  {
   "cell_type": "code",
   "execution_count": 226,
   "id": "98ba5d5a-e201-46c9-b33c-52560c8a6f4e",
   "metadata": {},
   "outputs": [],
   "source": [
    "cleaned_data['Payload Category'] = cleaned_data['Payload Category'].astype('category').cat.codes\n",
    "cleaned_data['Payload Type'] = cleaned_data['Payload Type'].astype('category').cat.codes"
   ]
  },
  {
   "cell_type": "code",
   "execution_count": 227,
   "id": "201b5a5e-31b9-4afd-92d6-f0baefac27dd",
   "metadata": {},
   "outputs": [],
   "source": [
    "X = cleaned_data[['Payload Category', 'Payload Type']]\n",
    "y = cleaned_data['Success Flag']"
   ]
  },
  {
   "cell_type": "code",
   "execution_count": 228,
   "id": "26b8393e-58d9-4be1-8cef-201293376770",
   "metadata": {},
   "outputs": [],
   "source": [
    "X_train, X_test, y_train, y_test = train_test_split(X, y, test_size=0.2, random_state=42)"
   ]
  },
  {
   "cell_type": "code",
   "execution_count": 229,
   "id": "c1cece8b-e116-4e95-8f98-811a4475a3dc",
   "metadata": {},
   "outputs": [
    {
     "data": {
      "text/html": [
       "<style>#sk-container-id-3 {\n",
       "  /* Definition of color scheme common for light and dark mode */\n",
       "  --sklearn-color-text: black;\n",
       "  --sklearn-color-line: gray;\n",
       "  /* Definition of color scheme for unfitted estimators */\n",
       "  --sklearn-color-unfitted-level-0: #fff5e6;\n",
       "  --sklearn-color-unfitted-level-1: #f6e4d2;\n",
       "  --sklearn-color-unfitted-level-2: #ffe0b3;\n",
       "  --sklearn-color-unfitted-level-3: chocolate;\n",
       "  /* Definition of color scheme for fitted estimators */\n",
       "  --sklearn-color-fitted-level-0: #f0f8ff;\n",
       "  --sklearn-color-fitted-level-1: #d4ebff;\n",
       "  --sklearn-color-fitted-level-2: #b3dbfd;\n",
       "  --sklearn-color-fitted-level-3: cornflowerblue;\n",
       "\n",
       "  /* Specific color for light theme */\n",
       "  --sklearn-color-text-on-default-background: var(--sg-text-color, var(--theme-code-foreground, var(--jp-content-font-color1, black)));\n",
       "  --sklearn-color-background: var(--sg-background-color, var(--theme-background, var(--jp-layout-color0, white)));\n",
       "  --sklearn-color-border-box: var(--sg-text-color, var(--theme-code-foreground, var(--jp-content-font-color1, black)));\n",
       "  --sklearn-color-icon: #696969;\n",
       "\n",
       "  @media (prefers-color-scheme: dark) {\n",
       "    /* Redefinition of color scheme for dark theme */\n",
       "    --sklearn-color-text-on-default-background: var(--sg-text-color, var(--theme-code-foreground, var(--jp-content-font-color1, white)));\n",
       "    --sklearn-color-background: var(--sg-background-color, var(--theme-background, var(--jp-layout-color0, #111)));\n",
       "    --sklearn-color-border-box: var(--sg-text-color, var(--theme-code-foreground, var(--jp-content-font-color1, white)));\n",
       "    --sklearn-color-icon: #878787;\n",
       "  }\n",
       "}\n",
       "\n",
       "#sk-container-id-3 {\n",
       "  color: var(--sklearn-color-text);\n",
       "}\n",
       "\n",
       "#sk-container-id-3 pre {\n",
       "  padding: 0;\n",
       "}\n",
       "\n",
       "#sk-container-id-3 input.sk-hidden--visually {\n",
       "  border: 0;\n",
       "  clip: rect(1px 1px 1px 1px);\n",
       "  clip: rect(1px, 1px, 1px, 1px);\n",
       "  height: 1px;\n",
       "  margin: -1px;\n",
       "  overflow: hidden;\n",
       "  padding: 0;\n",
       "  position: absolute;\n",
       "  width: 1px;\n",
       "}\n",
       "\n",
       "#sk-container-id-3 div.sk-dashed-wrapped {\n",
       "  border: 1px dashed var(--sklearn-color-line);\n",
       "  margin: 0 0.4em 0.5em 0.4em;\n",
       "  box-sizing: border-box;\n",
       "  padding-bottom: 0.4em;\n",
       "  background-color: var(--sklearn-color-background);\n",
       "}\n",
       "\n",
       "#sk-container-id-3 div.sk-container {\n",
       "  /* jupyter's `normalize.less` sets `[hidden] { display: none; }`\n",
       "     but bootstrap.min.css set `[hidden] { display: none !important; }`\n",
       "     so we also need the `!important` here to be able to override the\n",
       "     default hidden behavior on the sphinx rendered scikit-learn.org.\n",
       "     See: https://github.com/scikit-learn/scikit-learn/issues/21755 */\n",
       "  display: inline-block !important;\n",
       "  position: relative;\n",
       "}\n",
       "\n",
       "#sk-container-id-3 div.sk-text-repr-fallback {\n",
       "  display: none;\n",
       "}\n",
       "\n",
       "div.sk-parallel-item,\n",
       "div.sk-serial,\n",
       "div.sk-item {\n",
       "  /* draw centered vertical line to link estimators */\n",
       "  background-image: linear-gradient(var(--sklearn-color-text-on-default-background), var(--sklearn-color-text-on-default-background));\n",
       "  background-size: 2px 100%;\n",
       "  background-repeat: no-repeat;\n",
       "  background-position: center center;\n",
       "}\n",
       "\n",
       "/* Parallel-specific style estimator block */\n",
       "\n",
       "#sk-container-id-3 div.sk-parallel-item::after {\n",
       "  content: \"\";\n",
       "  width: 100%;\n",
       "  border-bottom: 2px solid var(--sklearn-color-text-on-default-background);\n",
       "  flex-grow: 1;\n",
       "}\n",
       "\n",
       "#sk-container-id-3 div.sk-parallel {\n",
       "  display: flex;\n",
       "  align-items: stretch;\n",
       "  justify-content: center;\n",
       "  background-color: var(--sklearn-color-background);\n",
       "  position: relative;\n",
       "}\n",
       "\n",
       "#sk-container-id-3 div.sk-parallel-item {\n",
       "  display: flex;\n",
       "  flex-direction: column;\n",
       "}\n",
       "\n",
       "#sk-container-id-3 div.sk-parallel-item:first-child::after {\n",
       "  align-self: flex-end;\n",
       "  width: 50%;\n",
       "}\n",
       "\n",
       "#sk-container-id-3 div.sk-parallel-item:last-child::after {\n",
       "  align-self: flex-start;\n",
       "  width: 50%;\n",
       "}\n",
       "\n",
       "#sk-container-id-3 div.sk-parallel-item:only-child::after {\n",
       "  width: 0;\n",
       "}\n",
       "\n",
       "/* Serial-specific style estimator block */\n",
       "\n",
       "#sk-container-id-3 div.sk-serial {\n",
       "  display: flex;\n",
       "  flex-direction: column;\n",
       "  align-items: center;\n",
       "  background-color: var(--sklearn-color-background);\n",
       "  padding-right: 1em;\n",
       "  padding-left: 1em;\n",
       "}\n",
       "\n",
       "\n",
       "/* Toggleable style: style used for estimator/Pipeline/ColumnTransformer box that is\n",
       "clickable and can be expanded/collapsed.\n",
       "- Pipeline and ColumnTransformer use this feature and define the default style\n",
       "- Estimators will overwrite some part of the style using the `sk-estimator` class\n",
       "*/\n",
       "\n",
       "/* Pipeline and ColumnTransformer style (default) */\n",
       "\n",
       "#sk-container-id-3 div.sk-toggleable {\n",
       "  /* Default theme specific background. It is overwritten whether we have a\n",
       "  specific estimator or a Pipeline/ColumnTransformer */\n",
       "  background-color: var(--sklearn-color-background);\n",
       "}\n",
       "\n",
       "/* Toggleable label */\n",
       "#sk-container-id-3 label.sk-toggleable__label {\n",
       "  cursor: pointer;\n",
       "  display: block;\n",
       "  width: 100%;\n",
       "  margin-bottom: 0;\n",
       "  padding: 0.5em;\n",
       "  box-sizing: border-box;\n",
       "  text-align: center;\n",
       "}\n",
       "\n",
       "#sk-container-id-3 label.sk-toggleable__label-arrow:before {\n",
       "  /* Arrow on the left of the label */\n",
       "  content: \"▸\";\n",
       "  float: left;\n",
       "  margin-right: 0.25em;\n",
       "  color: var(--sklearn-color-icon);\n",
       "}\n",
       "\n",
       "#sk-container-id-3 label.sk-toggleable__label-arrow:hover:before {\n",
       "  color: var(--sklearn-color-text);\n",
       "}\n",
       "\n",
       "/* Toggleable content - dropdown */\n",
       "\n",
       "#sk-container-id-3 div.sk-toggleable__content {\n",
       "  max-height: 0;\n",
       "  max-width: 0;\n",
       "  overflow: hidden;\n",
       "  text-align: left;\n",
       "  /* unfitted */\n",
       "  background-color: var(--sklearn-color-unfitted-level-0);\n",
       "}\n",
       "\n",
       "#sk-container-id-3 div.sk-toggleable__content.fitted {\n",
       "  /* fitted */\n",
       "  background-color: var(--sklearn-color-fitted-level-0);\n",
       "}\n",
       "\n",
       "#sk-container-id-3 div.sk-toggleable__content pre {\n",
       "  margin: 0.2em;\n",
       "  border-radius: 0.25em;\n",
       "  color: var(--sklearn-color-text);\n",
       "  /* unfitted */\n",
       "  background-color: var(--sklearn-color-unfitted-level-0);\n",
       "}\n",
       "\n",
       "#sk-container-id-3 div.sk-toggleable__content.fitted pre {\n",
       "  /* unfitted */\n",
       "  background-color: var(--sklearn-color-fitted-level-0);\n",
       "}\n",
       "\n",
       "#sk-container-id-3 input.sk-toggleable__control:checked~div.sk-toggleable__content {\n",
       "  /* Expand drop-down */\n",
       "  max-height: 200px;\n",
       "  max-width: 100%;\n",
       "  overflow: auto;\n",
       "}\n",
       "\n",
       "#sk-container-id-3 input.sk-toggleable__control:checked~label.sk-toggleable__label-arrow:before {\n",
       "  content: \"▾\";\n",
       "}\n",
       "\n",
       "/* Pipeline/ColumnTransformer-specific style */\n",
       "\n",
       "#sk-container-id-3 div.sk-label input.sk-toggleable__control:checked~label.sk-toggleable__label {\n",
       "  color: var(--sklearn-color-text);\n",
       "  background-color: var(--sklearn-color-unfitted-level-2);\n",
       "}\n",
       "\n",
       "#sk-container-id-3 div.sk-label.fitted input.sk-toggleable__control:checked~label.sk-toggleable__label {\n",
       "  background-color: var(--sklearn-color-fitted-level-2);\n",
       "}\n",
       "\n",
       "/* Estimator-specific style */\n",
       "\n",
       "/* Colorize estimator box */\n",
       "#sk-container-id-3 div.sk-estimator input.sk-toggleable__control:checked~label.sk-toggleable__label {\n",
       "  /* unfitted */\n",
       "  background-color: var(--sklearn-color-unfitted-level-2);\n",
       "}\n",
       "\n",
       "#sk-container-id-3 div.sk-estimator.fitted input.sk-toggleable__control:checked~label.sk-toggleable__label {\n",
       "  /* fitted */\n",
       "  background-color: var(--sklearn-color-fitted-level-2);\n",
       "}\n",
       "\n",
       "#sk-container-id-3 div.sk-label label.sk-toggleable__label,\n",
       "#sk-container-id-3 div.sk-label label {\n",
       "  /* The background is the default theme color */\n",
       "  color: var(--sklearn-color-text-on-default-background);\n",
       "}\n",
       "\n",
       "/* On hover, darken the color of the background */\n",
       "#sk-container-id-3 div.sk-label:hover label.sk-toggleable__label {\n",
       "  color: var(--sklearn-color-text);\n",
       "  background-color: var(--sklearn-color-unfitted-level-2);\n",
       "}\n",
       "\n",
       "/* Label box, darken color on hover, fitted */\n",
       "#sk-container-id-3 div.sk-label.fitted:hover label.sk-toggleable__label.fitted {\n",
       "  color: var(--sklearn-color-text);\n",
       "  background-color: var(--sklearn-color-fitted-level-2);\n",
       "}\n",
       "\n",
       "/* Estimator label */\n",
       "\n",
       "#sk-container-id-3 div.sk-label label {\n",
       "  font-family: monospace;\n",
       "  font-weight: bold;\n",
       "  display: inline-block;\n",
       "  line-height: 1.2em;\n",
       "}\n",
       "\n",
       "#sk-container-id-3 div.sk-label-container {\n",
       "  text-align: center;\n",
       "}\n",
       "\n",
       "/* Estimator-specific */\n",
       "#sk-container-id-3 div.sk-estimator {\n",
       "  font-family: monospace;\n",
       "  border: 1px dotted var(--sklearn-color-border-box);\n",
       "  border-radius: 0.25em;\n",
       "  box-sizing: border-box;\n",
       "  margin-bottom: 0.5em;\n",
       "  /* unfitted */\n",
       "  background-color: var(--sklearn-color-unfitted-level-0);\n",
       "}\n",
       "\n",
       "#sk-container-id-3 div.sk-estimator.fitted {\n",
       "  /* fitted */\n",
       "  background-color: var(--sklearn-color-fitted-level-0);\n",
       "}\n",
       "\n",
       "/* on hover */\n",
       "#sk-container-id-3 div.sk-estimator:hover {\n",
       "  /* unfitted */\n",
       "  background-color: var(--sklearn-color-unfitted-level-2);\n",
       "}\n",
       "\n",
       "#sk-container-id-3 div.sk-estimator.fitted:hover {\n",
       "  /* fitted */\n",
       "  background-color: var(--sklearn-color-fitted-level-2);\n",
       "}\n",
       "\n",
       "/* Specification for estimator info (e.g. \"i\" and \"?\") */\n",
       "\n",
       "/* Common style for \"i\" and \"?\" */\n",
       "\n",
       ".sk-estimator-doc-link,\n",
       "a:link.sk-estimator-doc-link,\n",
       "a:visited.sk-estimator-doc-link {\n",
       "  float: right;\n",
       "  font-size: smaller;\n",
       "  line-height: 1em;\n",
       "  font-family: monospace;\n",
       "  background-color: var(--sklearn-color-background);\n",
       "  border-radius: 1em;\n",
       "  height: 1em;\n",
       "  width: 1em;\n",
       "  text-decoration: none !important;\n",
       "  margin-left: 1ex;\n",
       "  /* unfitted */\n",
       "  border: var(--sklearn-color-unfitted-level-1) 1pt solid;\n",
       "  color: var(--sklearn-color-unfitted-level-1);\n",
       "}\n",
       "\n",
       ".sk-estimator-doc-link.fitted,\n",
       "a:link.sk-estimator-doc-link.fitted,\n",
       "a:visited.sk-estimator-doc-link.fitted {\n",
       "  /* fitted */\n",
       "  border: var(--sklearn-color-fitted-level-1) 1pt solid;\n",
       "  color: var(--sklearn-color-fitted-level-1);\n",
       "}\n",
       "\n",
       "/* On hover */\n",
       "div.sk-estimator:hover .sk-estimator-doc-link:hover,\n",
       ".sk-estimator-doc-link:hover,\n",
       "div.sk-label-container:hover .sk-estimator-doc-link:hover,\n",
       ".sk-estimator-doc-link:hover {\n",
       "  /* unfitted */\n",
       "  background-color: var(--sklearn-color-unfitted-level-3);\n",
       "  color: var(--sklearn-color-background);\n",
       "  text-decoration: none;\n",
       "}\n",
       "\n",
       "div.sk-estimator.fitted:hover .sk-estimator-doc-link.fitted:hover,\n",
       ".sk-estimator-doc-link.fitted:hover,\n",
       "div.sk-label-container:hover .sk-estimator-doc-link.fitted:hover,\n",
       ".sk-estimator-doc-link.fitted:hover {\n",
       "  /* fitted */\n",
       "  background-color: var(--sklearn-color-fitted-level-3);\n",
       "  color: var(--sklearn-color-background);\n",
       "  text-decoration: none;\n",
       "}\n",
       "\n",
       "/* Span, style for the box shown on hovering the info icon */\n",
       ".sk-estimator-doc-link span {\n",
       "  display: none;\n",
       "  z-index: 9999;\n",
       "  position: relative;\n",
       "  font-weight: normal;\n",
       "  right: .2ex;\n",
       "  padding: .5ex;\n",
       "  margin: .5ex;\n",
       "  width: min-content;\n",
       "  min-width: 20ex;\n",
       "  max-width: 50ex;\n",
       "  color: var(--sklearn-color-text);\n",
       "  box-shadow: 2pt 2pt 4pt #999;\n",
       "  /* unfitted */\n",
       "  background: var(--sklearn-color-unfitted-level-0);\n",
       "  border: .5pt solid var(--sklearn-color-unfitted-level-3);\n",
       "}\n",
       "\n",
       ".sk-estimator-doc-link.fitted span {\n",
       "  /* fitted */\n",
       "  background: var(--sklearn-color-fitted-level-0);\n",
       "  border: var(--sklearn-color-fitted-level-3);\n",
       "}\n",
       "\n",
       ".sk-estimator-doc-link:hover span {\n",
       "  display: block;\n",
       "}\n",
       "\n",
       "/* \"?\"-specific style due to the `<a>` HTML tag */\n",
       "\n",
       "#sk-container-id-3 a.estimator_doc_link {\n",
       "  float: right;\n",
       "  font-size: 1rem;\n",
       "  line-height: 1em;\n",
       "  font-family: monospace;\n",
       "  background-color: var(--sklearn-color-background);\n",
       "  border-radius: 1rem;\n",
       "  height: 1rem;\n",
       "  width: 1rem;\n",
       "  text-decoration: none;\n",
       "  /* unfitted */\n",
       "  color: var(--sklearn-color-unfitted-level-1);\n",
       "  border: var(--sklearn-color-unfitted-level-1) 1pt solid;\n",
       "}\n",
       "\n",
       "#sk-container-id-3 a.estimator_doc_link.fitted {\n",
       "  /* fitted */\n",
       "  border: var(--sklearn-color-fitted-level-1) 1pt solid;\n",
       "  color: var(--sklearn-color-fitted-level-1);\n",
       "}\n",
       "\n",
       "/* On hover */\n",
       "#sk-container-id-3 a.estimator_doc_link:hover {\n",
       "  /* unfitted */\n",
       "  background-color: var(--sklearn-color-unfitted-level-3);\n",
       "  color: var(--sklearn-color-background);\n",
       "  text-decoration: none;\n",
       "}\n",
       "\n",
       "#sk-container-id-3 a.estimator_doc_link.fitted:hover {\n",
       "  /* fitted */\n",
       "  background-color: var(--sklearn-color-fitted-level-3);\n",
       "}\n",
       "</style><div id=\"sk-container-id-3\" class=\"sk-top-container\"><div class=\"sk-text-repr-fallback\"><pre>DecisionTreeClassifier(random_state=42)</pre><b>In a Jupyter environment, please rerun this cell to show the HTML representation or trust the notebook. <br />On GitHub, the HTML representation is unable to render, please try loading this page with nbviewer.org.</b></div><div class=\"sk-container\" hidden><div class=\"sk-item\"><div class=\"sk-estimator fitted sk-toggleable\"><input class=\"sk-toggleable__control sk-hidden--visually\" id=\"sk-estimator-id-3\" type=\"checkbox\" checked><label for=\"sk-estimator-id-3\" class=\"sk-toggleable__label fitted sk-toggleable__label-arrow fitted\">&nbsp;&nbsp;DecisionTreeClassifier<a class=\"sk-estimator-doc-link fitted\" rel=\"noreferrer\" target=\"_blank\" href=\"https://scikit-learn.org/1.5/modules/generated/sklearn.tree.DecisionTreeClassifier.html\">?<span>Documentation for DecisionTreeClassifier</span></a><span class=\"sk-estimator-doc-link fitted\">i<span>Fitted</span></span></label><div class=\"sk-toggleable__content fitted\"><pre>DecisionTreeClassifier(random_state=42)</pre></div> </div></div></div></div>"
      ],
      "text/plain": [
       "DecisionTreeClassifier(random_state=42)"
      ]
     },
     "execution_count": 229,
     "metadata": {},
     "output_type": "execute_result"
    }
   ],
   "source": [
    "model = DecisionTreeClassifier(random_state=42)\n",
    "model.fit(X_train, y_train)"
   ]
  },
  {
   "cell_type": "code",
   "execution_count": 230,
   "id": "7dc26720-5c08-4dd4-8793-caea1ea89fd5",
   "metadata": {},
   "outputs": [
    {
     "name": "stdout",
     "output_type": "stream",
     "text": [
      "Model Accuracy: 0.86\n"
     ]
    }
   ],
   "source": [
    "accuracy = model.score(X_test, y_test)\n",
    "print(f'Model Accuracy: {accuracy:.2f}')"
   ]
  },
  {
   "cell_type": "code",
   "execution_count": 231,
   "id": "39c849e0-ce3a-4099-99a0-b6f0f0c23ad1",
   "metadata": {},
   "outputs": [
    {
     "data": {
      "image/png": "[encoded data removed]",
      "text/plain": [
       "<Figure size 1200x800 with 1 Axes>"
      ]
     },
     "metadata": {},
     "output_type": "display_data"
    }
   ],
   "source": [
    "plt.figure(figsize=(12, 8))\n",
    "plot_tree(model, feature_names=['Payload Category', 'Payload Type'], class_names=['Failure', 'Success'], filled=True)\n",
    "plt.title('Decision Tree for Success Rate')\n",
    "plt.show()"
   ]
  },
  {
   "cell_type": "code",
   "execution_count": 232,
   "id": "2e6689e1-4d8c-4621-a3d3-7494e3555975",
   "metadata": {},
   "outputs": [],
   "source": [
    "from sklearn.preprocessing import LabelEncoder"
   ]
  },
  {
   "cell_type": "code",
   "execution_count": 233,
   "id": "58dd361f-7194-4563-bdb1-a137cce2da27",
   "metadata": {},
   "outputs": [],
   "source": [
    "le = LabelEncoder()"
   ]
  },
  {
   "cell_type": "code",
   "execution_count": 234,
   "id": "cd07d0db-c617-40a0-b4a2-eac717ebc970",
   "metadata": {},
   "outputs": [],
   "source": [
    "data['Payload Type Encoded'] = le.fit_transform(data['Payload Type'])"
   ]
  },
  {
   "cell_type": "code",
   "execution_count": 235,
   "id": "c623e550-c8af-4f87-adc4-f0bd64ef0719",
   "metadata": {},
   "outputs": [
    {
     "name": "stdout",
     "output_type": "stream",
     "text": [
      "{'Communication Satellite': 0, 'Communication/Research Satellite': 1, 'Human Remains': 2, 'Research Satellite': 3, 'Research Satellites': 4, 'Space Station Supplies': 5, 'Weather Satellite': 6, nan: 7}\n"
     ]
    }
   ],
   "source": [
    "mapping = dict(zip(le.classes_, le.transform(le.classes_)))\n",
    "print(mapping)"
   ]
  },
  {
   "cell_type": "code",
   "execution_count": 237,
   "id": "8c1f2d17-d475-4e0c-abd1-067f5fad55c3",
   "metadata": {},
   "outputs": [],
   "source": [
    "cleaned_data['Payload Category Encoded'] = le.fit_transform(cleaned_data['Payload Category'])"
   ]
  },
  {
   "cell_type": "code",
   "execution_count": 238,
   "id": "cc40c721-2b3a-410b-911a-961e35e3f6da",
   "metadata": {},
   "outputs": [
    {
     "name": "stdout",
     "output_type": "stream",
     "text": [
      "{0: 0, 1: 1, 2: 2}\n"
     ]
    }
   ],
   "source": [
    "mapping = dict(zip(le.classes_, le.transform(le.classes_)))\n",
    "print(mapping)\n",
    "#'Light Payload': 0,\n",
    "#'Medium Payload': 1,\n",
    "#'Heavy Payload': 2,"
   ]
  },
  {
   "cell_type": "code",
   "execution_count": null,
   "id": "599d8b0c-0e43-4b75-bd8b-c8ccdd4a36a5",
   "metadata": {},
   "outputs": [],
   "source": []
  }
 ],
 "metadata": {
  "kernelspec": {
   "display_name": "Python 3 (ipykernel)",
   "language": "python",
   "name": "python3"
  },
  "language_info": {
   "codemirror_mode": {
    "name": "ipython",
    "version": 3
   },
   "file_extension": ".py",
   "mimetype": "text/x-python",
   "name": "python",
   "nbconvert_exporter": "python",
   "pygments_lexer": "ipython3",
   "version": "3.11.5"
  }
 },
 "nbformat": 4,
 "nbformat_minor": 5
}
